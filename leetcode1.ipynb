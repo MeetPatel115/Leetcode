{
 "cells": [
  {
   "cell_type": "code",
   "execution_count": 14,
   "id": "b7d494ee",
   "metadata": {},
   "outputs": [
    {
     "name": "stdout",
     "output_type": "stream",
     "text": [
      "1 2\n"
     ]
    }
   ],
   "source": [
    "def sum_of_2(number,target):\n",
    "    \n",
    "    \n",
    "    for i in range(len(nums)):\n",
    "        for j in range(i+1,len(nums)):\n",
    "            if (nums[i]+nums[j])==target:\n",
    "                return i,j\n",
    "\n",
    "nums = [3,2,4]\n",
    "target = 6\n",
    "re_1,re_2=sum_of_2(nums,target)\n",
    "print(re_1,re_2)"
   ]
  },
  {
   "cell_type": "code",
   "execution_count": 18,
   "id": "81918016",
   "metadata": {},
   "outputs": [
    {
     "name": "stdout",
     "output_type": "stream",
     "text": [
      "The indices for the elements that sum up to 6 are: 1, 2\n"
     ]
    }
   ],
   "source": [
    "class Solution:\n",
    "    def __init__(self, nums):\n",
    "        self.nums = nums\n",
    "\n",
    "    def twoSum(self, target):\n",
    "        for i in range(len(self.nums)):\n",
    "            for j in range(i+1, len(self.nums)):\n",
    "                if (self.nums[i] + self.nums[j]) == target:\n",
    "                    return i, j\n",
    "if __name__ == \"__main__\":\n",
    "    nums = [3, 2, 4]\n",
    "    target = 6\n",
    "\n",
    "    two_sum_finder = Solution(nums)\n",
    "    result_indices = two_sum_finder.twoSum(target)\n",
    "\n",
    "    if result_indices:\n",
    "        re_1, re_2 = result_indices\n",
    "        print(f\"The indices for the elements that sum up to {target} are: {re_1}, {re_2}\")\n",
    "    else:\n",
    "        print(\"No such indices found.\")"
   ]
  },
  {
   "cell_type": "code",
   "execution_count": 19,
   "id": "2a98fa62",
   "metadata": {},
   "outputs": [
    {
     "name": "stdout",
     "output_type": "stream",
     "text": [
      "The indices for the elements that sum up to 6 are: 1, 2\n"
     ]
    }
   ],
   "source": [
    "from typing import List\n",
    "\n",
    "class Solution:\n",
    "    def twoSum(self, nums: List[int], target: int):\n",
    "        for i in range(len(nums)):\n",
    "            for j in range(i+1, len(nums)):\n",
    "                if (nums[i] + nums[j]) == target:\n",
    "                    return i, j\n",
    "\n",
    "# Example usage:\n",
    "if __name__ == \"__main__\":\n",
    "    solution_instance = Solution()\n",
    "\n",
    "    # Example list and target value\n",
    "    nums = [3, 2, 4]\n",
    "    target = 6\n",
    "\n",
    "    # Call the twoSum method with the provided arguments\n",
    "    result_indices = solution_instance.twoSum(nums, target)\n",
    "\n",
    "    if result_indices:\n",
    "        re_1, re_2 = result_indices\n",
    "        print(f\"The indices for the elements that sum up to {target} are: {re_1}, {re_2}\")\n",
    "    else:\n",
    "        print(\"No such indices found.\")\n"
   ]
  },
  {
   "cell_type": "code",
   "execution_count": null,
   "id": "81bb5573",
   "metadata": {},
   "outputs": [],
   "source": []
  }
 ],
 "metadata": {
  "kernelspec": {
   "display_name": "Python 3 (ipykernel)",
   "language": "python",
   "name": "python3"
  },
  "language_info": {
   "codemirror_mode": {
    "name": "ipython",
    "version": 3
   },
   "file_extension": ".py",
   "mimetype": "text/x-python",
   "name": "python",
   "nbconvert_exporter": "python",
   "pygments_lexer": "ipython3",
   "version": "3.8.18"
  }
 },
 "nbformat": 4,
 "nbformat_minor": 5
}
