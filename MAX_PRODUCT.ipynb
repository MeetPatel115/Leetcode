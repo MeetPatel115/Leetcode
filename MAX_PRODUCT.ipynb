{
 "cells": [
  {
   "cell_type": "code",
   "execution_count": 26,
   "id": "b86c2d79",
   "metadata": {},
   "outputs": [],
   "source": [
    "def max_product(nums):\n",
    "    nums.sort()\n",
    "    product1= nums[-1] * nums[-2] * nums[-3]\n",
    "    product2= nums[0] * nums[1] * nums[-1]\n",
    "    return max(product1,product2)"
   ]
  },
  {
   "cell_type": "code",
   "execution_count": 27,
   "id": "e9dee857",
   "metadata": {},
   "outputs": [
    {
     "data": {
      "text/plain": [
       "-6"
      ]
     },
     "execution_count": 27,
     "metadata": {},
     "output_type": "execute_result"
    }
   ],
   "source": [
    "max_product([1,-2,3])"
   ]
  },
  {
   "cell_type": "code",
   "execution_count": 22,
   "id": "a191190c",
   "metadata": {},
   "outputs": [],
   "source": [
    "def max_product(nums):\n",
    "    # Sort the list\n",
    "    nums.sort()\n",
    "    \n",
    "    # Calculate the maximum product of three numbers\n",
    "    # 1. The product of the three largest numbers\n",
    "    product1 = nums[-1] * nums[-2] * nums[-3]\n",
    "    \n",
    "    # 2. The product of two smallest and the largest number\n",
    "    product2 = nums[0] * nums[1] * nums[-1]\n",
    "    \n",
    "    # Return the maximum of the two products\n",
    "    return max(product1, product2)\n"
   ]
  },
  {
   "cell_type": "code",
   "execution_count": 28,
   "id": "9e87a0f3",
   "metadata": {},
   "outputs": [
    {
     "data": {
      "text/plain": [
       "39200"
      ]
     },
     "execution_count": 28,
     "metadata": {},
     "output_type": "execute_result"
    }
   ],
   "source": [
    "max_product([-100,-98,-1,2,3,4])"
   ]
  },
  {
   "cell_type": "code",
   "execution_count": null,
   "id": "3a0bfbe8",
   "metadata": {},
   "outputs": [],
   "source": []
  }
 ],
 "metadata": {
  "kernelspec": {
   "display_name": "Python 3 (ipykernel)",
   "language": "python",
   "name": "python3"
  },
  "language_info": {
   "codemirror_mode": {
    "name": "ipython",
    "version": 3
   },
   "file_extension": ".py",
   "mimetype": "text/x-python",
   "name": "python",
   "nbconvert_exporter": "python",
   "pygments_lexer": "ipython3",
   "version": "3.8.18"
  }
 },
 "nbformat": 4,
 "nbformat_minor": 5
}
