{
 "cells": [
  {
   "cell_type": "code",
   "execution_count": 1,
   "id": "831607f5",
   "metadata": {},
   "outputs": [
    {
     "name": "stdout",
     "output_type": "stream",
     "text": [
      "121\n",
      "It is Palindrome \n"
     ]
    }
   ],
   "source": [
    "# Q1 )\n",
    "\n",
    "# Given an integer x, return true if x is palindrome integer.\n",
    "\n",
    "# An integer is a palindrome when it reads the same backward as forward.\n",
    "\n",
    "# For example, 121 is a palindrome while 123 is not.\n",
    " \n",
    "temp=0\n",
    "check=x=121\n",
    "while x>0:\n",
    "    temp*=10\n",
    "    temp+=x%10\n",
    "\n",
    "    x=int(x/10)\n",
    "\n",
    "print(temp)\n",
    "if temp==check:\n",
    "    print(\"It is Palindrome \")\n",
    "else:\n",
    "    print(\"It is not Palindrome\")"
   ]
  },
  {
   "cell_type": "code",
   "execution_count": 2,
   "id": "08fc4062",
   "metadata": {},
   "outputs": [
    {
     "name": "stdout",
     "output_type": "stream",
     "text": [
      "VIII\n"
     ]
    }
   ],
   "source": [
    "def int_to_roman(num):\n",
    "    roman_numerals = {\n",
    "        1000: 'M', 900: 'CM', 500: 'D', 400: 'CD', 100: 'C', \n",
    "        90: 'XC', 50: 'L', 40: 'XL', 10: 'X', 9: 'IX', 5: 'V', \n",
    "        4: 'IV', 1: 'I'\n",
    "    }\n",
    "    \n",
    "    roman = ''\n",
    "    for value, numeral in roman_numerals.items():\n",
    "        while num >= value:\n",
    "            roman += numeral\n",
    "            num -= value\n",
    "    \n",
    "    return roman\n",
    "\n",
    "# Example usage:\n",
    "num = 8\n",
    "print(int_to_roman(num))  # Output: 'LVIII'\n"
   ]
  },
  {
   "cell_type": "code",
   "execution_count": 2,
   "id": "63309a82",
   "metadata": {},
   "outputs": [
    {
     "name": "stdout",
     "output_type": "stream",
     "text": [
      "58\n"
     ]
    }
   ],
   "source": [
    "# Q2)\n",
    "\n",
    "# Roman numerals are represented by seven different symbols: I, V, X, L, C, D and M.\n",
    "\n",
    "# Symbol       Value\n",
    "\n",
    "# I             1\n",
    "\n",
    "# V             5\n",
    "\n",
    "# X             10\n",
    "\n",
    "# L             50\n",
    "\n",
    "# C             100\n",
    "\n",
    "# D             500\n",
    "\n",
    "# M             1000\n",
    "\n",
    "# For example, 2 is written as II in Roman numeral, just two ones added together. 12 is written as XII, which is simply X + II. The number 27 is written as XXVII, which is XX + V + II.\n",
    "\n",
    "# Roman numerals are usually written largest to smallest from left to right. However, the numeral for four is not IIII. Instead, the number four is written as IV. Because the one is before the five we subtract it making four. The same principle applies to the number nine, which is written as IX. There are six instances where subtraction is used:\n",
    "\n",
    "# I can be placed before V (5) and X (10) to make 4 and 9. \n",
    "# X can be placed before L (50) and C (100) to make 40 and 90. \n",
    "# C can be placed before D (500) and M (1000) to make 400 and 900.\n",
    "# Given a roman numeral, convert it to an integer.\n",
    "\n",
    "\n",
    "\n",
    "def rom(s):\n",
    "    total=0\n",
    "    prev_number=0\n",
    "    \n",
    "    roma = {'I': 1, 'V': 5, 'X': 10, 'L': 50, 'C': 100, 'D': 500, 'M': 1000}\n",
    "    \n",
    "    for i in range(len(s) - 1, -1, -1):\n",
    "        new_val=roma[s[i]]\n",
    "        if new_val < prev_number:\n",
    "            total -= new_val\n",
    "        else:\n",
    "            total += new_val\n",
    "        prev_number = new_val\n",
    "       \n",
    "    return total\n",
    "\n",
    "s = \"LVIII\"\n",
    "print(rom(s))"
   ]
  },
  {
   "cell_type": "code",
   "execution_count": 3,
   "id": "f32bb89f",
   "metadata": {},
   "outputs": [],
   "source": [
    "# Q3\n",
    "# You are given an array of k linked-lists lists, each linked-list is sorted in ascending order.\n",
    "\n",
    "# Merge all the linked-lists into one sorted linked-list and return it.\n",
    "\n",
    " \n",
    "\n",
    "# Example 1:\n",
    "\n",
    "# Input: lists = [[1,4,5],[1,3,4],[2,6]]\n",
    "# Output: [1,1,2,3,4,4,5,6]\n",
    "# Explanation: The linked-lists are:\n",
    "# [\n",
    "#   1->4->5,\n",
    "#   1->3->4,\n",
    "#   2->6\n",
    "# ]\n",
    "# merging them into one sorted list:\n",
    "# 1->1->2->3->4->4->5->6\n",
    "# Example 2:\n",
    "\n",
    "# Input: lists = []\n",
    "# Output: []\n",
    "# Example 3:\n",
    "\n",
    "# Input: lists = [[]]\n",
    "# Output: []\n",
    "\n",
    "\n",
    "\n",
    "lists=[[1,4,5],[1,3,4],[2,6]]\n",
    "out=[]\n",
    "for i in lists:\n",
    "    for j in i:\n",
    "        out.append(j)"
   ]
  },
  {
   "cell_type": "code",
   "execution_count": 5,
   "id": "f90ce071",
   "metadata": {},
   "outputs": [
    {
     "name": "stdout",
     "output_type": "stream",
     "text": [
      "[1, 1, 2, 3, 4, 4, 5, 6]\n"
     ]
    }
   ],
   "source": [
    "print(sorted(out))"
   ]
  },
  {
   "cell_type": "code",
   "execution_count": 3,
   "id": "e9ea7212",
   "metadata": {},
   "outputs": [
    {
     "name": "stdout",
     "output_type": "stream",
     "text": [
      "[1, 1, 2, 3, 4, 4, 5, 6]\n"
     ]
    }
   ],
   "source": [
    "class ListNode:\n",
    "    def __init__(self, val=0, next=None):\n",
    "        self.val = val\n",
    "        self.next = next\n",
    "\n",
    "def mergeKLists(lists):\n",
    "    # Concatenate all nodes of the linked lists into a single list\n",
    "    all_nodes = []\n",
    "    for head in lists:\n",
    "        current = head\n",
    "        while current:\n",
    "            all_nodes.append(current.val)\n",
    "            current = current.next\n",
    "    \n",
    "    # Sort the list of all nodes\n",
    "    all_nodes.sort()\n",
    "    \n",
    "    # Construct the merged sorted linked list from the sorted list\n",
    "    dummy = ListNode()\n",
    "    current = dummy\n",
    "    for val in all_nodes:\n",
    "        current.next = ListNode(val)\n",
    "        current = current.next\n",
    "    \n",
    "    return dummy.next\n",
    "\n",
    "# Utility function to convert a list to a linked list\n",
    "def list_to_linked_list(lst):\n",
    "    dummy = ListNode()\n",
    "    current = dummy\n",
    "    for val in lst:\n",
    "        current.next = ListNode(val)\n",
    "        current = current.next\n",
    "    return dummy.next\n",
    "\n",
    "# Utility function to convert a linked list to a list\n",
    "def linked_list_to_list(head):\n",
    "    lst = []\n",
    "    current = head\n",
    "    while current:\n",
    "        lst.append(current.val)\n",
    "        current = current.next\n",
    "    return lst\n",
    "\n",
    "# Example usage:\n",
    "lists = [[1,4,5],[1,3,4],[2,6]]\n",
    "linked_lists = [list_to_linked_list(lst) for lst in lists]\n",
    "result = mergeKLists(linked_lists)\n",
    "print(linked_list_to_list(result))  # Output: [1,1,2,3,4,4,5,6]\n"
   ]
  },
  {
   "cell_type": "code",
   "execution_count": null,
   "id": "973eabb5",
   "metadata": {},
   "outputs": [],
   "source": []
  }
 ],
 "metadata": {
  "kernelspec": {
   "display_name": "Python 3 (ipykernel)",
   "language": "python",
   "name": "python3"
  },
  "language_info": {
   "codemirror_mode": {
    "name": "ipython",
    "version": 3
   },
   "file_extension": ".py",
   "mimetype": "text/x-python",
   "name": "python",
   "nbconvert_exporter": "python",
   "pygments_lexer": "ipython3",
   "version": "3.8.18"
  }
 },
 "nbformat": 4,
 "nbformat_minor": 5
}
