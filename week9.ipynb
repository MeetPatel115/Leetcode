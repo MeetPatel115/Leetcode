{
 "cells": [
  {
   "cell_type": "code",
   "execution_count": 1,
   "id": "279a72ec",
   "metadata": {},
   "outputs": [],
   "source": [
    "# Q1: A phrase is a palindrome if, after converting all uppercase letters into lowercase letters and removing all non-alphanumeric characters, it reads the same forward and backward. Alphanumeric characters include letters and numbers. Given a string s, return true if it is a palindrome, or false otherwise."
   ]
  },
  {
   "cell_type": "code",
   "execution_count": 4,
   "id": "9caf9885",
   "metadata": {},
   "outputs": [],
   "source": [
    "def palindrome(string):\n",
    "    string=string.lower()\n",
    "    \n",
    "    string=[\"\".join(st) for st in string if st not in \"123456789 :,()[]{}./*-+!@#$%^&*\"]\n",
    "    if string==string[::-1]:\n",
    "        return True\n",
    "    else:\n",
    "        return False"
   ]
  },
  {
   "cell_type": "code",
   "execution_count": 7,
   "id": "0742c029",
   "metadata": {},
   "outputs": [
    {
     "data": {
      "text/plain": [
       "False"
      ]
     },
     "execution_count": 7,
     "metadata": {},
     "output_type": "execute_result"
    }
   ],
   "source": [
    "palindrome(\"race a car\")"
   ]
  },
  {
   "cell_type": "code",
   "execution_count": 8,
   "id": "1cfb1897",
   "metadata": {},
   "outputs": [],
   "source": [
    "# Q2 Given an array nums of size n, return the majority element. The majority element is the element that appears more than ⌊n / 2⌋ times. You may assume that the majority element always exists in the array."
   ]
  },
  {
   "cell_type": "code",
   "execution_count": 9,
   "id": "b770cf08",
   "metadata": {},
   "outputs": [],
   "source": [
    "from collections import Counter\n",
    "def maximum(li):\n",
    "    \n",
    "    counts=Counter(li)\n",
    "    maax=0\n",
    "    m_num=0\n",
    "    for num,count in counts.items():\n",
    "        if count>maax:\n",
    "            maax=count\n",
    "            m_num=num\n",
    "    return m_num"
   ]
  },
  {
   "cell_type": "code",
   "execution_count": 52,
   "id": "5721bbb9",
   "metadata": {},
   "outputs": [
    {
     "data": {
      "text/plain": [
       "4"
      ]
     },
     "execution_count": 52,
     "metadata": {},
     "output_type": "execute_result"
    }
   ],
   "source": [
    "maximum([3,2,4,4,4,4,3])"
   ]
  },
  {
   "cell_type": "code",
   "execution_count": 12,
   "id": "e3987a3d",
   "metadata": {},
   "outputs": [],
   "source": [
    "# Q3 Write an algorithm to determine if a number n is happy. A happy number is a number defined by the following process:\n",
    "\n",
    "# Starting with any positive integer, replace the number by the sum of the squares of its digits.\n",
    "# Repeat the process until the number equals 1 (where it will stay), or it loops endlessly in a cycle which does not include 1.\n",
    "# Those numbers for which this process ends in 1 are happy.\n",
    "# Return true if n is a happy number, and false if not."
   ]
  },
  {
   "cell_type": "code",
   "execution_count": 39,
   "id": "79cea050",
   "metadata": {},
   "outputs": [],
   "source": [
    "def loop(nums):\n",
    "    try:\n",
    "        values= str(nums)\n",
    "        \n",
    "        s=0\n",
    "        \n",
    "        for i in values:\n",
    "            ans=int(i)**2\n",
    "            s+=ans\n",
    "        if s==1:\n",
    "            return True\n",
    "        else:\n",
    "#             print(s)\n",
    "            return loop(s)\n",
    "    except:\n",
    "        return False"
   ]
  },
  {
   "cell_type": "code",
   "execution_count": 41,
   "id": "0ac79369",
   "metadata": {},
   "outputs": [
    {
     "name": "stdout",
     "output_type": "stream",
     "text": [
      "False\n"
     ]
    }
   ],
   "source": [
    "print(loop(2))"
   ]
  },
  {
   "cell_type": "code",
   "execution_count": null,
   "id": "0497e5bd",
   "metadata": {},
   "outputs": [],
   "source": []
  },
  {
   "cell_type": "code",
   "execution_count": 49,
   "id": "1921a227",
   "metadata": {},
   "outputs": [],
   "source": [
    "class Solution:\n",
    "    def numberOfGoodSubsets(self, nums):\n",
    "        MOD = 10**9 + 7  \n",
    "        primes = [2, 3, 5, 7, 11, 13, 17, 19, 23, 29]\n",
    "        def count_frequency(nums):\n",
    "            frequency = [0] * 31  \n",
    "            for num in nums:\n",
    "                frequency[num] += 1\n",
    "            return frequency\n",
    "        frequency = count_frequency(nums)\n",
    "        dp = [0] * (1 << len(primes))  # DP array for bitmasking primes.\n",
    "        dp[0] = 1  # Base case: subset with no numbers.\n",
    "        # Iterates over possible numbers, updating DP array based on prime factorization.\n",
    "        for num in range(2, 31):\n",
    "            if frequency[num] == 0:\n",
    "                continue  # Skip numbers not present in `nums`.\n",
    "            num_bitmask = 0  # Represents prime factors of num as a bitmask.\n",
    "            for i, prime in enumerate(primes):\n",
    "                if num % prime == 0:\n",
    "                    if num % (prime * prime) == 0:  # Skip if divisible by a prime squared.\n",
    "                        break\n",
    "                    num_bitmask |= 1 << i  # Update bitmask for current prime.\n",
    "            else: \n",
    "                # Update DP array for new combinations, considering the frequency of current number.\n",
    "                for bitmask in range((1 << len(primes)) - 1, -1, -1):\n",
    "                    if (bitmask & num_bitmask) == 0: \n",
    "                        dp[bitmask | num_bitmask] = (dp[bitmask | num_bitmask] + dp[bitmask] * frequency[num]) % MOD\n",
    "        # Calculates total good subsets, minus 1 to exclude the empty set, modulo MOD.\n",
    "        total_good_subsets = (sum(dp) - 1) % MOD\n",
    "        # If `1` is present, it can be included in any subset without affecting its prime factorization.\n",
    "        if frequency[1] > 0:\n",
    "            total_good_subsets = (total_good_subsets * pow(2, frequency[1], MOD)) % MOD\n",
    "        return total_good_subsets"
   ]
  },
  {
   "cell_type": "code",
   "execution_count": 50,
   "id": "06b4a284",
   "metadata": {},
   "outputs": [
    {
     "name": "stdout",
     "output_type": "stream",
     "text": [
      "6\n",
      "5\n"
     ]
    }
   ],
   "source": [
    "class Solution:\n",
    "    def numberOfGoodSubsets(self, nums):\n",
    "        MOD = 10**9 + 7\n",
    "        primes = [2, 3, 5, 7, 11, 13, 17, 19, 23, 29]\n",
    "        \n",
    "        def count_frequency(nums):\n",
    "            frequency = [0] * 31\n",
    "            for num in nums:\n",
    "                frequency[num] += 1\n",
    "            return frequency\n",
    "\n",
    "        frequency = count_frequency(nums)\n",
    "        dp = [0] * (1 << len(primes))\n",
    "        dp[0] = 1\n",
    "        \n",
    "        for num in range(2, 31):\n",
    "            if frequency[num] == 0:\n",
    "                continue\n",
    "            num_bitmask = 0\n",
    "            for i, prime in enumerate(primes):\n",
    "                if num % prime == 0:\n",
    "                    if num % (prime * prime) == 0:  \n",
    "                        break\n",
    "                    num_bitmask |= 1 << i\n",
    "            else: \n",
    "                for bitmask in range((1 << len(primes)) - 1, -1, -1):\n",
    "                    if (bitmask & num_bitmask) == 0: \n",
    "                        dp[bitmask | num_bitmask] = (dp[bitmask | num_bitmask] + dp[bitmask] * frequency[num]) % MOD\n",
    "\n",
    "        total_good_subsets = (sum(dp) - 1) % MOD\n",
    "\n",
    "        if frequency[1] > 0:\n",
    "            total_good_subsets = (total_good_subsets * pow(2, frequency[1], MOD)) % MOD\n",
    "        \n",
    "        return total_good_subsets\n",
    "\n",
    "sol = Solution()\n",
    "print(sol.numberOfGoodSubsets([1,2,3,4]))\n",
    "print(sol.numberOfGoodSubsets([4,2,3,15]))"
   ]
  },
  {
   "cell_type": "code",
   "execution_count": null,
   "id": "d17194ce",
   "metadata": {},
   "outputs": [],
   "source": []
  }
 ],
 "metadata": {
  "kernelspec": {
   "display_name": "Python 3 (ipykernel)",
   "language": "python",
   "name": "python3"
  },
  "language_info": {
   "codemirror_mode": {
    "name": "ipython",
    "version": 3
   },
   "file_extension": ".py",
   "mimetype": "text/x-python",
   "name": "python",
   "nbconvert_exporter": "python",
   "pygments_lexer": "ipython3",
   "version": "3.8.18"
  }
 },
 "nbformat": 4,
 "nbformat_minor": 5
}
