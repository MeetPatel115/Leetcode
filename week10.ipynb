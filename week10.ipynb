{
 "cells": [
  {
   "cell_type": "code",
   "execution_count": 1,
   "id": "9464c8f3",
   "metadata": {},
   "outputs": [],
   "source": [
    "# Q1) Given two non-negative integers num1 and num2 represented as strings, return the product of num1 and num2, also represented as a string.\n",
    "\n",
    "# Note: You must not use any built-in BigInteger library or convert the inputs to integer directly."
   ]
  },
  {
   "cell_type": "code",
   "execution_count": 14,
   "id": "cc084262",
   "metadata": {},
   "outputs": [
    {
     "data": {
      "text/plain": [
       "6"
      ]
     },
     "execution_count": 14,
     "metadata": {},
     "output_type": "execute_result"
    }
   ],
   "source": [
    "num1='2'\n",
    "num2='3'\n",
    "s1=0\n",
    "s2=0\n",
    "for i in num1:\n",
    "    s1*=10\n",
    "    s1+=ord(i)-ord('0')\n",
    "for i in num2:\n",
    "    s2*=10\n",
    "    s2+=ord(i)-ord('0')  \n",
    "s1*s2"
   ]
  },
  {
   "cell_type": "code",
   "execution_count": null,
   "id": "2e0401d0",
   "metadata": {},
   "outputs": [],
   "source": []
  },
  {
   "cell_type": "code",
   "execution_count": 9,
   "id": "6833cc03",
   "metadata": {},
   "outputs": [],
   "source": [
    "from collections import Counter\n",
    "def serinumber(nums):\n",
    "    \n",
    "    series=Counter(nums)\n",
    "    sum1=''\n",
    "    for i ,j in series.items():\n",
    "        sum1+=str(j)+i\n",
    "        \n",
    "    return sum1"
   ]
  },
  {
   "cell_type": "code",
   "execution_count": 10,
   "id": "599c1b97",
   "metadata": {},
   "outputs": [
    {
     "data": {
      "text/plain": [
       "'421511'"
      ]
     },
     "execution_count": 10,
     "metadata": {},
     "output_type": "execute_result"
    }
   ],
   "source": [
    "serinumber('222251')"
   ]
  },
  {
   "cell_type": "code",
   "execution_count": null,
   "id": "a8167087",
   "metadata": {},
   "outputs": [],
   "source": [
    "    def countAndSay(n):\n",
    "        \"\"\"\n",
    "        :type n: int\n",
    "        :rtype: str\n",
    "        \"\"\"\n",
    "        if n == 1:\n",
    "            return \"1\"\n",
    "\n",
    "        prev = countAndSay(n - 1)\n",
    "        result = \"\"\n",
    "        count = 1\n",
    "\n",
    "        for i in range(len(prev)):\n",
    "            if i < len(prev) - 1 and prev[i] == prev[i + 1]:\n",
    "                count += 1\n",
    "            else:\n",
    "                result += str(count) + prev[i]\n",
    "                count = 1\n",
    "\n",
    "        return result"
   ]
  },
  {
   "cell_type": "code",
   "execution_count": null,
   "id": "344dd8e1",
   "metadata": {},
   "outputs": [],
   "source": [
    "coun"
   ]
  }
 ],
 "metadata": {
  "kernelspec": {
   "display_name": "Python 3 (ipykernel)",
   "language": "python",
   "name": "python3"
  },
  "language_info": {
   "codemirror_mode": {
    "name": "ipython",
    "version": 3
   },
   "file_extension": ".py",
   "mimetype": "text/x-python",
   "name": "python",
   "nbconvert_exporter": "python",
   "pygments_lexer": "ipython3",
   "version": "3.8.18"
  }
 },
 "nbformat": 4,
 "nbformat_minor": 5
}
