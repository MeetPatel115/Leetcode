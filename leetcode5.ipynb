{
 "cells": [
  {
   "cell_type": "code",
   "execution_count": 45,
   "id": "a294a135",
   "metadata": {},
   "outputs": [],
   "source": [
    "# class Solution(object):\n",
    "def threeSum( nums):\n",
    "    ans=[]\n",
    "    check=[]\n",
    "    for index1,i in enumerate(nums):\n",
    "        for index2,j in enumerate(nums):\n",
    "            for index3,k in enumerate(nums):\n",
    "                if (i+j+k==0)  and (index1!=index3) and (index1!=index2)and (index2!=index3):   \n",
    "                    if all(x in check for x in [i, j, k]):\n",
    "                        continue                 \n",
    "                    temp=[]\n",
    "                    temp.extend([i, j, k])\n",
    "                    check.extend([i, j, k])\n",
    "                    if temp not in ans:\n",
    "                        ans.append(temp)\n",
    "    return ans\n",
    "        "
   ]
  },
  {
   "cell_type": "code",
   "execution_count": null,
   "id": "3cd2f0ed",
   "metadata": {},
   "outputs": [],
   "source": []
  },
  {
   "cell_type": "code",
   "execution_count": 46,
   "id": "4bc86c57",
   "metadata": {},
   "outputs": [],
   "source": [
    "result=threeSum([-1,0,1,2,-1,-4,-2,-3,3,0,4])"
   ]
  },
  {
   "cell_type": "code",
   "execution_count": 47,
   "id": "58f4fe9e",
   "metadata": {},
   "outputs": [
    {
     "data": {
      "text/plain": [
       "[[-1, 0, 1], [-1, 2, -1], [-1, -2, 3], [-1, -3, 4], [0, -4, 4]]"
      ]
     },
     "execution_count": 47,
     "metadata": {},
     "output_type": "execute_result"
    }
   ],
   "source": [
    "result"
   ]
  },
  {
   "cell_type": "code",
   "execution_count": 22,
   "id": "705ff0c5",
   "metadata": {},
   "outputs": [
    {
     "name": "stdout",
     "output_type": "stream",
     "text": [
      "0 1\n",
      "1 2\n"
     ]
    }
   ],
   "source": [
    "num=[1,2]\n",
    "for i,j in enumerate(num):\n",
    "    print(i,j)"
   ]
  },
  {
   "cell_type": "code",
   "execution_count": null,
   "id": "9adc4935",
   "metadata": {},
   "outputs": [],
   "source": []
  },
  {
   "cell_type": "code",
   "execution_count": null,
   "id": "39d000a9",
   "metadata": {},
   "outputs": [],
   "source": []
  }
 ],
 "metadata": {
  "kernelspec": {
   "display_name": "Python 3 (ipykernel)",
   "language": "python",
   "name": "python3"
  },
  "language_info": {
   "codemirror_mode": {
    "name": "ipython",
    "version": 3
   },
   "file_extension": ".py",
   "mimetype": "text/x-python",
   "name": "python",
   "nbconvert_exporter": "python",
   "pygments_lexer": "ipython3",
   "version": "3.8.18"
  }
 },
 "nbformat": 4,
 "nbformat_minor": 5
}
