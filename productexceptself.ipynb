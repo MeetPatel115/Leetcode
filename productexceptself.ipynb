{
 "cells": [
  {
   "cell_type": "code",
   "execution_count": 17,
   "id": "11b198c9",
   "metadata": {},
   "outputs": [],
   "source": [
    "def productexceptself(nums,n):\n",
    "    product=1\n",
    "    for i in range(n):\n",
    "        temp=nums.copy()\n",
    "        temp.pop(i)\n",
    "        pro=1\n",
    "        for a in temp:\n",
    "            pro*=a\n",
    "        print(pro)"
   ]
  },
  {
   "cell_type": "code",
   "execution_count": 18,
   "id": "d14bc409",
   "metadata": {},
   "outputs": [
    {
     "name": "stdout",
     "output_type": "stream",
     "text": [
      "[3, 5, 6, 2] [10, 3, 5, 6, 2] 180\n",
      "[10, 5, 6, 2] [10, 3, 5, 6, 2] 600\n",
      "[10, 3, 6, 2] [10, 3, 5, 6, 2] 360\n",
      "[10, 3, 5, 2] [10, 3, 5, 6, 2] 300\n",
      "[10, 3, 5, 6] [10, 3, 5, 6, 2] 900\n"
     ]
    }
   ],
   "source": [
    "productexceptself([10, 3, 5, 6, 2],5)"
   ]
  },
  {
   "cell_type": "code",
   "execution_count": null,
   "id": "2483db81",
   "metadata": {},
   "outputs": [],
   "source": []
  }
 ],
 "metadata": {
  "kernelspec": {
   "display_name": "Python 3 (ipykernel)",
   "language": "python",
   "name": "python3"
  },
  "language_info": {
   "codemirror_mode": {
    "name": "ipython",
    "version": 3
   },
   "file_extension": ".py",
   "mimetype": "text/x-python",
   "name": "python",
   "nbconvert_exporter": "python",
   "pygments_lexer": "ipython3",
   "version": "3.8.18"
  }
 },
 "nbformat": 4,
 "nbformat_minor": 5
}
