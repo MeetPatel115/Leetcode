{
 "cells": [
  {
   "cell_type": "markdown",
   "id": "3ef66081",
   "metadata": {},
   "source": [
    "# 1-Write a Python program to check a sequence of numbers is an arithmetic progression or not. \n",
    "## Input : [5, 7, 9, 11]\n",
    "## Output : True\n",
    "## In mathematics, an arithmetic progression or arithmetic sequence is a sequence of numbers such that the difference between the consecutive terms is constant.\n",
    "## For example, the sequence 5, 7, 9, 11, 13, 15 ... is an arithmetic progression with common difference of 2.\n",
    "\n"
   ]
  },
  {
   "cell_type": "code",
   "execution_count": 15,
   "id": "40cff67c",
   "metadata": {},
   "outputs": [
    {
     "data": {
      "text/plain": [
       "True"
      ]
     },
     "execution_count": 15,
     "metadata": {},
     "output_type": "execute_result"
    }
   ],
   "source": [
    "\n",
    "in_list=[5,7,9,11]\n",
    "\n",
    "if len(in_list)<2:\n",
    "    flag=False\n",
    "else:\n",
    "    difference=in_list[0]-in_list[1]\n",
    "\n",
    "    for i in range(2,len(in_list)-1):\n",
    "\n",
    "        if (in_list[i]-in_list[i+1])!=difference:\n",
    "            flag=False\n",
    "            break\n",
    "    else:\n",
    "        flag=True\n",
    "\n",
    "    \n",
    "\n",
    "flag"
   ]
  },
  {
   "cell_type": "markdown",
   "id": "addb3163",
   "metadata": {},
   "source": [
    "# 2-Write a Python program to check whether a given number is an ugly number. \n",
    "## Input : 12\n",
    "## Output : True\n",
    "## Ugly numbers are positive numbers whose only prime factors are 2, 3 or 5. The sequence 1, 2, 3, 4, 5, 6, 8, 9, 10, 12, ...\n",
    "## shows the first 10 ugly numbers.\n",
    "## Note: 1 is typically treated as an ugly number"
   ]
  },
  {
   "cell_type": "code",
   "execution_count": 16,
   "id": "8de4817a",
   "metadata": {},
   "outputs": [
    {
     "name": "stdout",
     "output_type": "stream",
     "text": [
      "True\n"
     ]
    }
   ],
   "source": [
    "def ugly_number(number):\n",
    "    if number==0:\n",
    "        return False\n",
    "    for i in [2,3,5]:\n",
    "        while number%i==0:\n",
    "            number//=i\n",
    "    return number==1\n",
    "\n",
    "print(ugly_number(12))"
   ]
  },
  {
   "cell_type": "markdown",
   "id": "dd4911e5",
   "metadata": {},
   "source": [
    "# 3-Write a Python Function to find the single number in a list that doesn't occur n times.\n",
    "# Input : [5, 3,3,4, 4, 3, 4], N=3\n",
    "# Output : 5"
   ]
  },
  {
   "cell_type": "code",
   "execution_count": 22,
   "id": "3fe9479b",
   "metadata": {},
   "outputs": [
    {
     "name": "stdout",
     "output_type": "stream",
     "text": [
      "{3, 4, 5}\n",
      "{3: 3, 4: 3, 5: 1}\n",
      "5\n"
     ]
    }
   ],
   "source": [
    "number_input=[5,3,3,4,4,3,4]\n",
    "N=3\n",
    "temp=set(number_input)\n",
    "count1={}\n",
    "\n",
    "for i in temp:\n",
    "    count1[i]=number_input.count(i)\n",
    "\n",
    "for n,ele in count1.items():\n",
    "    if ele!=N:\n",
    "        print(n)"
   ]
  },
  {
   "cell_type": "code",
   "execution_count": null,
   "id": "7011604b",
   "metadata": {},
   "outputs": [],
   "source": []
  }
 ],
 "metadata": {
  "kernelspec": {
   "display_name": "Python 3 (ipykernel)",
   "language": "python",
   "name": "python3"
  },
  "language_info": {
   "codemirror_mode": {
    "name": "ipython",
    "version": 3
   },
   "file_extension": ".py",
   "mimetype": "text/x-python",
   "name": "python",
   "nbconvert_exporter": "python",
   "pygments_lexer": "ipython3",
   "version": "3.8.18"
  }
 },
 "nbformat": 4,
 "nbformat_minor": 5
}
