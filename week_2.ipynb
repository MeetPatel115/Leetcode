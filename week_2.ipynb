{
 "cells": [
  {
   "cell_type": "code",
   "execution_count": 1,
   "id": "6c957bed",
   "metadata": {},
   "outputs": [],
   "source": [
    "#A-Write a Python program to check if a number is a perfect square"
   ]
  },
  {
   "cell_type": "code",
   "execution_count": 9,
   "id": "154dbc1c",
   "metadata": {},
   "outputs": [
    {
     "name": "stdout",
     "output_type": "stream",
     "text": [
      "Enter the value: 8\n",
      "it is not the perfect square\n"
     ]
    }
   ],
   "source": [
    "number=int(input(\"Enter the value: \"))\n",
    "\n",
    "squareroot=int(number**0.5)\n",
    "\n",
    "if squareroot**2==number:\n",
    "    print(\"it is perfect square\")\n",
    "else:\n",
    "    print('it is not the perfect square')"
   ]
  },
  {
   "cell_type": "code",
   "execution_count": 22,
   "id": "652fc955",
   "metadata": {},
   "outputs": [
    {
     "name": "stdout",
     "output_type": "stream",
     "text": [
      "5\n",
      "9\n",
      "10\n"
     ]
    }
   ],
   "source": [
    "#B- Write a Python program to find a missing number from a list. \n",
    "# Input : [1,2,3,4,6,7,8,11]\n",
    "# Output : 5\n",
    "\n",
    "list1=[1,2,3,4,6,7,8,11]\n",
    "\n",
    "for i in range(len(list1)-1):\n",
    "    if (list1[i+1]-list1[i])!=1:\n",
    "        for j in range(list1[i]+1,list1[i+1]):\n",
    "            print(j)"
   ]
  },
  {
   "cell_type": "code",
   "execution_count": 33,
   "id": "6132e6c0",
   "metadata": {},
   "outputs": [
    {
     "name": "stdout",
     "output_type": "stream",
     "text": [
      "5\n",
      "6\n"
     ]
    }
   ],
   "source": [
    "#C- Write a Python program to find the single number in a list that doesn't occur twice.\n",
    "# Input : [5, 3, 4, 3, 4]\n",
    "list1=[5, 3, 4,6, 3, 4]\n",
    "new=[]\n",
    "for i in list1:\n",
    "    if i not in new :\n",
    "        new.append(i)\n",
    "    else:\n",
    "        new.remove(i)\n",
    "for i in new :\n",
    "    print(i)"
   ]
  },
  {
   "cell_type": "code",
   "execution_count": null,
   "id": "e000382b",
   "metadata": {},
   "outputs": [],
   "source": []
  }
 ],
 "metadata": {
  "kernelspec": {
   "display_name": "Python 3 (ipykernel)",
   "language": "python",
   "name": "python3"
  },
  "language_info": {
   "codemirror_mode": {
    "name": "ipython",
    "version": 3
   },
   "file_extension": ".py",
   "mimetype": "text/x-python",
   "name": "python",
   "nbconvert_exporter": "python",
   "pygments_lexer": "ipython3",
   "version": "3.8.18"
  }
 },
 "nbformat": 4,
 "nbformat_minor": 5
}
