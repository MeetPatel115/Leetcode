{
 "cells": [
  {
   "cell_type": "code",
   "execution_count": 27,
   "id": "cf1d5577",
   "metadata": {},
   "outputs": [],
   "source": [
    "class Solution(object):\n",
    "    def intToRoman(self, num):\n",
    "        \"\"\"\n",
    "        :type num: int\n",
    "        :rtype: str\n",
    "        \"\"\"\n",
    "        rom={1000:'M',900:'CM',500:'D',400:'CD',100:'C',90:'XC',50:'L',40:'XL',10:'X',9:'IX',5:'V',4:'IV',1:'I'}\n",
    "    \n",
    "        strs=''\n",
    "    \n",
    "        for i in rom.keys():\n",
    "    \n",
    "            \n",
    "            while i<=num:\n",
    "                print(\"numnum\",num)\n",
    "                num = num-i\n",
    "                strs+=rom[i]\n",
    "    \n",
    "        return strs\n",
    "        "
   ]
  },
  {
   "cell_type": "code",
   "execution_count": 25,
   "id": "3ff9a1b4",
   "metadata": {},
   "outputs": [],
   "source": [
    "def inttorom(num):\n",
    "    \n",
    "    rom={1000:'M',900:'CM',500:'D',400:'CD',100:'C',90:'XC',50:'L',40:'XL',10:'X',9:'IX',5:'V',4:'IV',1:'I'}\n",
    "    \n",
    "    strs=''\n",
    "    \n",
    "    for i in rom.keys():\n",
    "        print(i)\n",
    "    \n",
    "            \n",
    "        while i<=num:\n",
    "            print(\"numnum\",num)\n",
    "            num = num-i\n",
    "            strs+=rom[i]\n",
    "    \n",
    "    return strs"
   ]
  },
  {
   "cell_type": "code",
   "execution_count": 26,
   "id": "8b37865a",
   "metadata": {},
   "outputs": [
    {
     "name": "stdout",
     "output_type": "stream",
     "text": [
      "1000\n",
      "numnum 3749\n",
      "numnum 2749\n",
      "numnum 1749\n",
      "900\n",
      "500\n",
      "numnum 749\n",
      "400\n",
      "100\n",
      "numnum 249\n",
      "numnum 149\n",
      "90\n",
      "50\n",
      "40\n",
      "numnum 49\n",
      "10\n",
      "9\n",
      "numnum 9\n",
      "5\n",
      "4\n",
      "1\n"
     ]
    },
    {
     "data": {
      "text/plain": [
       "'MMMDCCXLIX'"
      ]
     },
     "execution_count": 26,
     "metadata": {},
     "output_type": "execute_result"
    }
   ],
   "source": [
    "inttorom(3749)"
   ]
  },
  {
   "cell_type": "code",
   "execution_count": 22,
   "id": "85081fae",
   "metadata": {},
   "outputs": [
    {
     "name": "stdout",
     "output_type": "stream",
     "text": [
      "MMMDCCXLIX\n"
     ]
    }
   ],
   "source": [
    "def int_to_roman(num):\n",
    "    # Define the mapping of integers to Roman numerals\n",
    "    val = [\n",
    "        1000, 900, 500, 400,\n",
    "        100, 90, 50, 40,\n",
    "        10, 9, 5, 4,\n",
    "        1\n",
    "    ]\n",
    "    syms = [\n",
    "        \"M\", \"CM\", \"D\", \"CD\",\n",
    "        \"C\", \"XC\", \"L\", \"XL\",\n",
    "        \"X\", \"IX\", \"V\", \"IV\",\n",
    "        \"I\"\n",
    "    ]\n",
    "\n",
    "    roman_num = ''\n",
    "    i = 0\n",
    "    while num > 0:\n",
    "        for _ in range(num // val[i]):\n",
    "            roman_num += syms[i]\n",
    "            num -= val[i]\n",
    "        i += 1\n",
    "    return roman_num\n",
    "\n",
    "# Example usage\n",
    "print(int_to_roman(3749))  # Output: \"MMMDXLIX\"\n"
   ]
  },
  {
   "cell_type": "code",
   "execution_count": 30,
   "id": "05fbc56f",
   "metadata": {},
   "outputs": [
    {
     "name": "stdout",
     "output_type": "stream",
     "text": [
      "MMMDXLIX\n"
     ]
    }
   ],
   "source": [
    "class Solution(object):\n",
    "    def intToRoman(self, num):\n",
    "        \"\"\"\n",
    "        :type num: int\n",
    "        :rtype: str\n",
    "        \"\"\"\n",
    "        rom = {1000: 'M', 900: 'CM', 500: 'D', 400: 'CD', 100: 'C', 90: 'XC', 50: 'L', 40: 'XL', 10: 'X', 9: 'IX', 5: 'V', 4: 'IV', 1: 'I'}\n",
    "        strs = ''\n",
    "        \n",
    "        for i in sorted(rom.keys(), reverse=True):\n",
    "            while i <= num:\n",
    "                num -= i\n",
    "                strs += rom[i]\n",
    "        \n",
    "        return strs\n",
    "\n",
    "# Example usage\n",
    "solution = Solution()\n",
    "print(solution.intToRoman(3549))  # Output: \"MMMDXLIX\"\n"
   ]
  },
  {
   "cell_type": "code",
   "execution_count": null,
   "id": "f4434e6a",
   "metadata": {},
   "outputs": [],
   "source": []
  }
 ],
 "metadata": {
  "kernelspec": {
   "display_name": "Python 3 (ipykernel)",
   "language": "python",
   "name": "python3"
  },
  "language_info": {
   "codemirror_mode": {
    "name": "ipython",
    "version": 3
   },
   "file_extension": ".py",
   "mimetype": "text/x-python",
   "name": "python",
   "nbconvert_exporter": "python",
   "pygments_lexer": "ipython3",
   "version": "3.8.18"
  }
 },
 "nbformat": 4,
 "nbformat_minor": 5
}
