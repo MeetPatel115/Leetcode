{
 "cells": [
  {
   "cell_type": "code",
   "execution_count": 1,
   "id": "513ea70d",
   "metadata": {},
   "outputs": [],
   "source": [
    "# Given an input string s and a pattern p, implement regular expression matching with support for '.' and '*' where:\n",
    "\n",
    "# '.' Matches any single character.​​​​\n",
    "# '*' Matches zero or more of the preceding element.\n",
    "# The matching should cover the entire input string (not partial).\n",
    "\n",
    " \n",
    "\n",
    "# Example 1:\n",
    "\n",
    "# Input: s = \"aa\", p = \"a\"\n",
    "# Output: false\n",
    "# Explanation: \"a\" does not match the entire string \"aa\".\n",
    "# Example 2:\n",
    "\n",
    "# Input: s = \"aa\", p = \"a*\"\n",
    "# Output: true\n",
    "# Explanation: '*' means zero or more of the preceding element, 'a'. Therefore, by repeating 'a' once, it becomes \"aa\".\n",
    "# Example 3:\n",
    "\n",
    "# Input: s = \"ab\", p = \".*\"\n",
    "# Output: true\n",
    "# Explanation: \".*\" means \"zero or more (*) of any character (.)\"."
   ]
  },
  {
   "cell_type": "code",
   "execution_count": 4,
   "id": "bb945bb9",
   "metadata": {},
   "outputs": [],
   "source": [
    "    def ismatch(s,p):\n",
    "        def dfs(i,j):\n",
    "            if i>=len(s) and j>=len(p):\n",
    "                return True\n",
    "\n",
    "            if j>=len(p):\n",
    "                return False\n",
    "\n",
    "            match =i<len(s) and(s[i]==p[j] or p[j]=='.')\n",
    "\n",
    "            if (j+1)<len(p) and p[j+1]=='*':\n",
    "                return (dfs(i,j+2) or (match and dfs(i+1,j)))\n",
    "            if match:\n",
    "                return dfs(i+1,j+1)\n",
    "\n",
    "            return False\n",
    "        return dfs(0,0)"
   ]
  },
  {
   "cell_type": "code",
   "execution_count": 6,
   "id": "b843ed7e",
   "metadata": {},
   "outputs": [
    {
     "data": {
      "text/plain": [
       "True"
      ]
     },
     "execution_count": 6,
     "metadata": {},
     "output_type": "execute_result"
    }
   ],
   "source": [
    "ismatch('aa','a*')"
   ]
  },
  {
   "cell_type": "code",
   "execution_count": 4,
   "id": "1c51972a",
   "metadata": {},
   "outputs": [
    {
     "name": "stdout",
     "output_type": "stream",
     "text": [
      "S :aa\n",
      "p :a*\n",
      "True\n"
     ]
    }
   ],
   "source": [
    "s=input(\"S :\")\n",
    "p=input(\"p :\")\n",
    "\n",
    "\n",
    "    def isMatch(self, s, p):\n",
    "        \"\"\"\n",
    "        :type s: str\n",
    "        :type p: str\n",
    "        :rtype: bool\n",
    "        \"\"\"\n",
    "        def dfs(i,j):\n",
    "            if i>=len(s) and j>=len(p):\n",
    "                return True\n",
    "\n",
    "            if j>=len(p):\n",
    "                return False\n",
    "\n",
    "            match =i<len(s) and(s[i]==p[j] or p[j]=='.')\n",
    "\n",
    "            if (j+1)<len(p) and p[j+1]=='*':\n",
    "                return (dfs(i,j+2) or (match and dfs(i+1,j)))\n",
    "            if match:\n",
    "                return dfs(i+1,j+1)\n",
    "\n",
    "            return False\n",
    "        return dfs(0,0)"
   ]
  },
  {
   "cell_type": "code",
   "execution_count": 39,
   "id": "fe6f3696",
   "metadata": {},
   "outputs": [
    {
     "name": "stdout",
     "output_type": "stream",
     "text": [
      "Enter number of elemt you like to enter in the array: 5\n",
      "5\n",
      "enter element in array: 5\n",
      "enter element in array: 1\n",
      "enter element in array: 4\n",
      "enter element in array: 1\n",
      "enter element in array: 0\n",
      "Enter the index difference: 2\n",
      "Enter the value difference: 4\n"
     ]
    }
   ],
   "source": [
    "# -----------------------\n",
    "# You are given a 0-indexed integer array nums having length n, an integer indexDifference, and an integer valueDifference.\n",
    "\n",
    "# Your task is to find two indices i and j, both in the range [0, n - 1], that satisfy the following conditions:\n",
    "\n",
    "# abs(i - j) >= indexDifference, and\n",
    "# abs(nums[i] - nums[j]) >= valueDifference\n",
    "# Return an integer array answer, where answer = [i, j] if there are two such indices, and answer = [-1, -1] otherwise. If there are multiple choices for the two indices, return any of them.\n",
    "\n",
    "# Note: i and j may be equal.\n",
    "\n",
    "\n",
    "\n",
    "arr_le=int(input(\"Enter number of elemt you like to enter in the array: \"))\n",
    "print(arr_le)\n",
    "arr=[]\n",
    "for i in range(arr_le):\n",
    "    temp=int(input('enter element in array: '))\n",
    "    arr.append(temp)\n",
    "\n",
    "index_diff=int(input('Enter the index difference: '))\n",
    "value_diff=int(input(\"Enter the value difference: \"))\n",
    "\n",
    "ans=[]\n",
    "for i in range(len(arr)):\n",
    "    for j in range(len(arr)-1):\n",
    "        if abs(i-j)>=index_diff and abs(arr[i]-arr[j])>=value_diff:\n",
    "            ans.append([i,j])\n"
   ]
  },
  {
   "cell_type": "code",
   "execution_count": 40,
   "id": "4d41aca2",
   "metadata": {},
   "outputs": [
    {
     "data": {
      "text/plain": [
       "[[0, 3], [3, 0], [4, 0], [4, 2]]"
      ]
     },
     "execution_count": 40,
     "metadata": {},
     "output_type": "execute_result"
    }
   ],
   "source": [
    "\n",
    "ans"
   ]
  },
  {
   "cell_type": "code",
   "execution_count": 1,
   "id": "38746bdc",
   "metadata": {},
   "outputs": [
    {
     "name": "stdout",
     "output_type": "stream",
     "text": [
      "0\n"
     ]
    }
   ],
   "source": [
    "def findSingleElement(nums):\n",
    "    \"\"\"\n",
    "    :type nums: List[int]\n",
    "    :rtype: int\n",
    "    \"\"\"\n",
    "    result = 0\n",
    "    for num in nums:\n",
    "        result ^= num\n",
    "    return result\n",
    "\n",
    "# Example usage:\n",
    "nums = [1, 1, 1, 2, 2, 2, 3]\n",
    "print(findSingleElement(nums))  # Output: 3\n"
   ]
  },
  {
   "cell_type": "code",
   "execution_count": 13,
   "id": "89ec175b",
   "metadata": {},
   "outputs": [
    {
     "data": {
      "text/plain": [
       "4"
      ]
     },
     "execution_count": 13,
     "metadata": {},
     "output_type": "execute_result"
    }
   ],
   "source": [
    "one([5, 3, 4, 3,4,2, 5, 5, 3])"
   ]
  },
  {
   "cell_type": "code",
   "execution_count": 3,
   "id": "5cc758b4",
   "metadata": {},
   "outputs": [
    {
     "name": "stdout",
     "output_type": "stream",
     "text": [
      "The Output:  4\n"
     ]
    }
   ],
   "source": [
    "\n",
    "# Write a Python program to find the single element in a list where every element appears multiple times except for one.\n",
    "# Input : [5, 3, 4, 3, 5, 5, 3],\n",
    "# Output : 4\n",
    "list1=[5, 3, 4, 3, 5, 5, 3]\n",
    "for i in list1:\n",
    "    if list1.count(i)==1:\n",
    "        print(\"The Output: \",i)\n",
    "\n"
   ]
  },
  {
   "cell_type": "code",
   "execution_count": 16,
   "id": "ad231bbd",
   "metadata": {},
   "outputs": [
    {
     "name": "stdout",
     "output_type": "stream",
     "text": [
      "5\n"
     ]
    }
   ],
   "source": [
    "\n",
    "# Write a Python program to compute and return the square root of a given 'integer'. \n",
    "# Input : 16\n",
    "# Output : 4\n",
    "# Note : The returned value will be an 'integer', do not use square root functions from python.\n",
    "\n",
    "inpu=25\n",
    "for i in range(int(inpu//2)):\n",
    "    if i*i==inpu:\n",
    "        print(i)\n",
    "        break\n",
    "else:\n",
    "    print('The perfect square is not possiblt')"
   ]
  },
  {
   "cell_type": "code",
   "execution_count": 15,
   "id": "fb7a0fee",
   "metadata": {},
   "outputs": [
    {
     "data": {
      "text/plain": [
       "True"
      ]
     },
     "execution_count": 15,
     "metadata": {},
     "output_type": "execute_result"
    }
   ],
   "source": [
    "\n",
    "# Write a Python program to check a sequence of numbers is a geometric progression or not. \n",
    "# Input : [2, 6, 18, 54]\n",
    "# Output : True\n",
    "\n",
    "\n",
    "list1= [2, 6, 18, 54]\n",
    "flag=False\n",
    "for i in range(len(list1)-1):\n",
    "    if (list1[i+1]%list1[i])==0:\n",
    "        flag=True\n",
    "    else:\n",
    "        flag=False\n",
    "        break\n",
    "flag"
   ]
  },
  {
   "cell_type": "code",
   "execution_count": 14,
   "id": "17bfe8c3",
   "metadata": {},
   "outputs": [
    {
     "data": {
      "text/plain": [
       "True"
      ]
     },
     "execution_count": 14,
     "metadata": {},
     "output_type": "execute_result"
    }
   ],
   "source": []
  },
  {
   "cell_type": "code",
   "execution_count": 21,
   "id": "b37eaad9",
   "metadata": {},
   "outputs": [
    {
     "ename": "NameError",
     "evalue": "name 'reverse' is not defined",
     "output_type": "error",
     "traceback": [
      "\u001b[1;31m---------------------------------------------------------------------------\u001b[0m",
      "\u001b[1;31mNameError\u001b[0m                                 Traceback (most recent call last)",
      "Cell \u001b[1;32mIn[21], line 2\u001b[0m\n\u001b[0;32m      1\u001b[0m a\u001b[38;5;241m=\u001b[39m[\u001b[38;5;241m1\u001b[39m,\u001b[38;5;241m0\u001b[39m]\n\u001b[1;32m----> 2\u001b[0m b\u001b[38;5;241m=\u001b[39m\u001b[43mreverse\u001b[49m(a)\n",
      "\u001b[1;31mNameError\u001b[0m: name 'reverse' is not defined"
     ]
    }
   ],
   "source": []
  },
  {
   "cell_type": "code",
   "execution_count": 22,
   "id": "9535cc57",
   "metadata": {},
   "outputs": [
    {
     "name": "stdout",
     "output_type": "stream",
     "text": [
      "None\n"
     ]
    }
   ],
   "source": []
  },
  {
   "cell_type": "code",
   "execution_count": null,
   "id": "bea04e42",
   "metadata": {},
   "outputs": [],
   "source": []
  }
 ],
 "metadata": {
  "kernelspec": {
   "display_name": "Python 3 (ipykernel)",
   "language": "python",
   "name": "python3"
  },
  "language_info": {
   "codemirror_mode": {
    "name": "ipython",
    "version": 3
   },
   "file_extension": ".py",
   "mimetype": "text/x-python",
   "name": "python",
   "nbconvert_exporter": "python",
   "pygments_lexer": "ipython3",
   "version": "3.8.18"
  }
 },
 "nbformat": 4,
 "nbformat_minor": 5
}
