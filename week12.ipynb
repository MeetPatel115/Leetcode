{
 "cells": [
  {
   "cell_type": "code",
   "execution_count": 1,
   "id": "517331e9",
   "metadata": {},
   "outputs": [],
   "source": [
    "# Q1 You are given a large integer represented as an integer array digits, where each digits[i] is the ith digit of the integer. The digits are ordered from most significant to least significant in left-to-right order. The large integer does not contain any leading 0's.\n",
    "\n",
    "# Increment the large integer by one and return the resulting array of digits."
   ]
  },
  {
   "cell_type": "code",
   "execution_count": 4,
   "id": "35151544",
   "metadata": {},
   "outputs": [],
   "source": [
    "def largerinte(nums):\n",
    "    val=''\n",
    "    for i in nums:\n",
    "        val+=str(i)\n",
    "        \n",
    "    val=int(val)+1\n",
    "    result=[]\n",
    "    for i in str(val):\n",
    "        result.append(int(i))\n",
    "        \n",
    "    return result"
   ]
  },
  {
   "cell_type": "code",
   "execution_count": 5,
   "id": "2988f85a",
   "metadata": {},
   "outputs": [
    {
     "data": {
      "text/plain": [
       "[1, 2, 4]"
      ]
     },
     "execution_count": 5,
     "metadata": {},
     "output_type": "execute_result"
    }
   ],
   "source": [
    "largerinte([1,2,3])"
   ]
  },
  {
   "cell_type": "code",
   "execution_count": 6,
   "id": "5ec09ae0",
   "metadata": {},
   "outputs": [],
   "source": [
    "# Q2 Given two strings ransomNote and magazine, return true if ransomNote can be constructed by using the letters from magazine and false otherwise.\n",
    "\n",
    "# Each letter in magazine can only be used once in ransomNote."
   ]
  },
  {
   "cell_type": "code",
   "execution_count": 9,
   "id": "33e0b0f4",
   "metadata": {},
   "outputs": [],
   "source": [
    "def mazagine(ransome,magazi):\n",
    "    temp=[]\n",
    "    for i in magazi:\n",
    "        temp.append(i)\n",
    "        \n",
    "    for i in ransome:\n",
    "        if i not in temp:\n",
    "            return False\n",
    "        else:\n",
    "            temp.remove(i)\n",
    "    return True"
   ]
  },
  {
   "cell_type": "code",
   "execution_count": 13,
   "id": "7bdb0d09",
   "metadata": {},
   "outputs": [
    {
     "data": {
      "text/plain": [
       "False"
      ]
     },
     "execution_count": 13,
     "metadata": {},
     "output_type": "execute_result"
    }
   ],
   "source": [
    "mazagine('aa','ab')"
   ]
  },
  {
   "cell_type": "code",
   "execution_count": 15,
   "id": "963536e0",
   "metadata": {},
   "outputs": [
    {
     "data": {
      "text/plain": [
       "2.083333333333333"
      ]
     },
     "execution_count": 15,
     "metadata": {},
     "output_type": "execute_result"
    }
   ],
   "source": [
    "(1/48)*100"
   ]
  },
  {
   "cell_type": "code",
   "execution_count": null,
   "id": "09adc768",
   "metadata": {},
   "outputs": [],
   "source": []
  }
 ],
 "metadata": {
  "kernelspec": {
   "display_name": "Python 3 (ipykernel)",
   "language": "python",
   "name": "python3"
  },
  "language_info": {
   "codemirror_mode": {
    "name": "ipython",
    "version": 3
   },
   "file_extension": ".py",
   "mimetype": "text/x-python",
   "name": "python",
   "nbconvert_exporter": "python",
   "pygments_lexer": "ipython3",
   "version": "3.8.18"
  }
 },
 "nbformat": 4,
 "nbformat_minor": 5
}
