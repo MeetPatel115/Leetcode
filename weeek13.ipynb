{
 "cells": [
  {
   "cell_type": "code",
   "execution_count": 20,
   "id": "495f1c55",
   "metadata": {},
   "outputs": [],
   "source": [
    "def rev(x):\n",
    "    \n",
    "    INT_MAX = 2**31 - 1\n",
    "    INT_MIN = -2**31\n",
    "    \n",
    "    \n",
    "    result=0\n",
    "    \n",
    "    if x<0:\n",
    "        x*=-1\n",
    "        sign=-1\n",
    "    else:\n",
    "        sign=1\n",
    "    \n",
    "    while x!=0:\n",
    "        temp=x%10\n",
    "        x//=10\n",
    "        \n",
    "        if result>(INT_MAX-temp)//10:\n",
    "            return 0\n",
    "        result=result*10+temp\n",
    "    return result*sign"
   ]
  },
  {
   "cell_type": "code",
   "execution_count": 22,
   "id": "65935c8f",
   "metadata": {},
   "outputs": [
    {
     "data": {
      "text/plain": [
       "-321"
      ]
     },
     "execution_count": 22,
     "metadata": {},
     "output_type": "execute_result"
    }
   ],
   "source": [
    "x = -123\n",
    "rev(x)"
   ]
  },
  {
   "cell_type": "code",
   "execution_count": 18,
   "id": "5872f8b2",
   "metadata": {},
   "outputs": [],
   "source": [
    "# 2\n",
    "\n",
    "def rotate(matrix):\n",
    "    \n",
    "    n=len(matrix)\n",
    "#     for i in range(n):\n",
    "#         matrix[i]=matrix[i][::-1]\n",
    "    for i in range(n):\n",
    "        for j in range(i,n):\n",
    "            matrix[i][j],matrix[j][i]=matrix[j][i],matrix[i][j]\n",
    "            print(matrix)\n",
    "    for i in range(n):\n",
    "        matrix[i]=matrix[i][::-1]\n",
    "\n",
    "    return matrix"
   ]
  },
  {
   "cell_type": "code",
   "execution_count": 19,
   "id": "0cba4b01",
   "metadata": {},
   "outputs": [
    {
     "name": "stdout",
     "output_type": "stream",
     "text": [
      "[[1, 2, 3], [4, 5, 6], [7, 8, 9]]\n",
      "[[1, 4, 3], [2, 5, 6], [7, 8, 9]]\n",
      "[[1, 4, 7], [2, 5, 6], [3, 8, 9]]\n",
      "[[1, 4, 7], [2, 5, 6], [3, 8, 9]]\n",
      "[[1, 4, 7], [2, 5, 8], [3, 6, 9]]\n",
      "[[1, 4, 7], [2, 5, 8], [3, 6, 9]]\n"
     ]
    },
    {
     "data": {
      "text/plain": [
       "[[1, 4, 7], [2, 5, 8], [3, 6, 9]]"
      ]
     },
     "execution_count": 19,
     "metadata": {},
     "output_type": "execute_result"
    }
   ],
   "source": [
    "matrix = [[1,2,3],[4,5,6],[7,8,9]]\n",
    "\n",
    "rotate(matrix)"
   ]
  },
  {
   "cell_type": "code",
   "execution_count": 35,
   "id": "adcf3b06",
   "metadata": {},
   "outputs": [
    {
     "data": {
      "text/plain": [
       "(3, 6, 9)"
      ]
     },
     "execution_count": 35,
     "metadata": {},
     "output_type": "execute_result"
    }
   ],
   "source": [
    "3,6,9\n",
    "2,5,8\n",
    "1,4,7\n",
    "\n",
    "147\n",
    "258\n",
    "369\n",
    "\n",
    "963\n",
    "852\n",
    "741\n",
    "# \n",
    "369\n",
    "258\n",
    "369"
   ]
  },
  {
   "cell_type": "code",
   "execution_count": 18,
   "id": "f92dc99f",
   "metadata": {},
   "outputs": [],
   "source": [
    "def check(board,word):\n",
    "    rows,cols=len(board),len(board[0])\n",
    "    \n",
    "    path=set()\n",
    "    \n",
    "    def dfs(r,c,i):\n",
    "        if i == len(word):\n",
    "            return True\n",
    "        \n",
    "        if r<0 or c<0 or r>=rows or c>=cols or board[r][c]!=word[i] or ((r,c)in path):\n",
    "            return False\n",
    "        path.add((r,c))\n",
    "        \n",
    "        res=((dfs(r+1,c,i+1)) or \n",
    "            (dfs(r-1,c,i+1)) or \n",
    "            (dfs(r,c+1,i+1)) or \n",
    "            (dfs(r,c-1,i+1)) )\n",
    "        path.remove((r,c))\n",
    "        return res\n",
    "    \n",
    "    \n",
    "    for i in range(rows):\n",
    "        for j in range(cols):\n",
    "            if dfs(i,j,0):\n",
    "                return True\n",
    "            \n",
    "            \n",
    "    return False"
   ]
  },
  {
   "cell_type": "code",
   "execution_count": 19,
   "id": "5fe7cd54",
   "metadata": {},
   "outputs": [
    {
     "data": {
      "text/plain": [
       "True"
      ]
     },
     "execution_count": 19,
     "metadata": {},
     "output_type": "execute_result"
    }
   ],
   "source": [
    "board = [[\"A\",\"B\",\"C\",\"E\"],[\"S\",\"F\",\"C\",\"S\"],[\"A\",\"D\",\"E\",\"E\"]]\n",
    "word = \"ABCCED\"\n",
    "check(board,word)"
   ]
  },
  {
   "cell_type": "code",
   "execution_count": null,
   "id": "4c8ae1b8",
   "metadata": {},
   "outputs": [],
   "source": []
  }
 ],
 "metadata": {
  "kernelspec": {
   "display_name": "Python 3 (ipykernel)",
   "language": "python",
   "name": "python3"
  },
  "language_info": {
   "codemirror_mode": {
    "name": "ipython",
    "version": 3
   },
   "file_extension": ".py",
   "mimetype": "text/x-python",
   "name": "python",
   "nbconvert_exporter": "python",
   "pygments_lexer": "ipython3",
   "version": "3.8.18"
  }
 },
 "nbformat": 4,
 "nbformat_minor": 5
}
