{
 "cells": [
  {
   "cell_type": "code",
   "execution_count": 25,
   "id": "4c494a43",
   "metadata": {},
   "outputs": [
    {
     "name": "stdout",
     "output_type": "stream",
     "text": [
      "121\n",
      "It is Palindrome \n"
     ]
    }
   ],
   "source": [
    "temp=0\n",
    "check=x=121\n",
    "while x>0:\n",
    "    temp*=10\n",
    "    temp+=x%10\n",
    "\n",
    "    x=int(x/10)\n",
    "\n",
    "print(temp)\n",
    "if temp==check:\n",
    "    print(\"It is Palindrome \")\n",
    "else:\n",
    "    print(\"It is not Palindrome\")"
   ]
  },
  {
   "cell_type": "code",
   "execution_count": 29,
   "id": "eec2185b",
   "metadata": {},
   "outputs": [
    {
     "name": "stdout",
     "output_type": "stream",
     "text": [
      "Enter the number to check the palindrome: 246\n",
      "Not Palindrom\n"
     ]
    }
   ],
   "source": [
    "\n",
    "class Solution:\n",
    "    def isPalindrome(self, x: int):\n",
    "        temp=0\n",
    "        check=x\n",
    "        while x>0:\n",
    "            temp*=10\n",
    "            temp+=x%10\n",
    "            x=int(x/10)\n",
    "        if temp==check:\n",
    "            return True\n",
    "        else:\n",
    "            return False\n",
    "\n",
    "# Example usage:\n",
    "if __name__ == \"__main__\":\n",
    "    solution_instance = Solution()\n",
    "\n",
    "    # Example list and target value\n",
    "    num =int(input(\"Enter the number to check the palindrome: \"))\n",
    "    # Call the twoSum method with the provided arguments\n",
    "    ans=solution_instance.isPalindrome(num)\n",
    "    if ans==True:\n",
    "        print(\"Palindrom\")\n",
    "    else:\n",
    "        print(\"Not Palindrom\")\n"
   ]
  },
  {
   "cell_type": "code",
   "execution_count": 30,
   "id": "2a85b2ea",
   "metadata": {},
   "outputs": [
    {
     "name": "stdout",
     "output_type": "stream",
     "text": [
      "121\n",
      "True\n"
     ]
    }
   ],
   "source": [
    "class Solution:\n",
    "    def isPalindrome(self, x: int):\n",
    "        temp=0\n",
    "        check=x\n",
    "        while x>0:\n",
    "            temp*=10\n",
    "            temp+=x%10\n",
    "            x=int(x/10)\n",
    "        if temp==check:\n",
    "            return True\n",
    "        else:\n",
    "            return False\n",
    "\n",
    "# Example usage:\n",
    "if __name__ == \"__main__\":\n",
    "    solution_instance = Solution()\n",
    "\n",
    "    # Example list and target value\n",
    "    # num =int(input(\"X: \"))\n",
    "    # Call the twoSum method with the provided arguments\n",
    "    x=int(input())\n",
    "    ans=solution_instance.isPalindrome(x)\n",
    "    \n",
    "    print(ans)\n",
    "\n"
   ]
  },
  {
   "cell_type": "code",
   "execution_count": 32,
   "id": "e6fc4a73",
   "metadata": {},
   "outputs": [
    {
     "name": "stdout",
     "output_type": "stream",
     "text": [
      "True\n"
     ]
    }
   ],
   "source": [
    "class Solution:\n",
    "    def isPalindrome(self, x: int):\n",
    "        if x<0:\n",
    "            return False\n",
    "        x=str(x)\n",
    "        return x==x[::-1]\n",
    "\n",
    "sol=Solution()\n",
    "x=121\n",
    "ans=sol.isPalindrome(x)\n",
    "print(ans)"
   ]
  },
  {
   "cell_type": "code",
   "execution_count": null,
   "id": "9343295a",
   "metadata": {},
   "outputs": [],
   "source": []
  }
 ],
 "metadata": {
  "kernelspec": {
   "display_name": "Python 3 (ipykernel)",
   "language": "python",
   "name": "python3"
  },
  "language_info": {
   "codemirror_mode": {
    "name": "ipython",
    "version": 3
   },
   "file_extension": ".py",
   "mimetype": "text/x-python",
   "name": "python",
   "nbconvert_exporter": "python",
   "pygments_lexer": "ipython3",
   "version": "3.8.18"
  }
 },
 "nbformat": 4,
 "nbformat_minor": 5
}
