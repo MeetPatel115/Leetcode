{
 "cells": [
  {
   "cell_type": "code",
   "execution_count": 1,
   "id": "3a04dc20",
   "metadata": {},
   "outputs": [
    {
     "name": "stdout",
     "output_type": "stream",
     "text": [
      "[[-2, -1, 1, 2], [-2, 0, 0, 2], [-1, 0, 0, 1]]\n"
     ]
    }
   ],
   "source": [
    "def fourSum(nums, target):\n",
    "    \"\"\"\n",
    "    :type nums: List[int]\n",
    "    :type target: int\n",
    "    :rtype: List[List[int]]\n",
    "    \"\"\"\n",
    "    nums.sort()\n",
    "    n = len(nums)\n",
    "    result = []\n",
    "    \n",
    "    for i in range(n - 3):\n",
    "\n",
    "        \n",
    "        for j in range(i + 1, n - 2):\n",
    "\n",
    "            \n",
    "            left = j + 1\n",
    "            right = n - 1\n",
    "            \n",
    "            while left < right:\n",
    "                total = nums[i] + nums[j] + nums[left] + nums[right]\n",
    "                \n",
    "                if total == target:\n",
    "                    result.append([nums[i], nums[j], nums[left], nums[right]])\n",
    "                    # Skip duplicate elements\n",
    "                    while left < right and nums[left] == nums[left + 1]:\n",
    "                        left += 1\n",
    "                    while left < right and nums[right] == nums[right - 1]:\n",
    "                        right -= 1\n",
    "                    left += 1\n",
    "                    right -= 1\n",
    "                elif total < target:\n",
    "                    left += 1\n",
    "                else:\n",
    "                    right -= 1\n",
    "    \n",
    "    return result\n",
    "\n",
    "# Example usage:\n",
    "nums = [1, 0, -1, 0, -2, 2, 10, 11]\n",
    "target = 0\n",
    "print(fourSum(nums, target))  # Output: [[-2, -1, 1, 2], [-2, 0, 0, 2], [-1, 0, 0, 1]]\n"
   ]
  },
  {
   "cell_type": "code",
   "execution_count": 3,
   "id": "e7970c69",
   "metadata": {},
   "outputs": [
    {
     "name": "stdout",
     "output_type": "stream",
     "text": [
      "Please Enter the number of the elemnt in the array: 8\n",
      "element in the list: 10\n",
      "element in the list: 11\n",
      "element in the list: 0\n",
      "element in the list: 0\n",
      "element in the list: -1\n",
      "element in the list: 1\n",
      "element in the list: -2\n",
      "element in the list: 2\n",
      "Enter the number for the equalof the sum: 0\n",
      "[[0, 0, -1, 1], [0, 0, -2, 2], [-1, 1, -2, 2]]\n"
     ]
    }
   ],
   "source": [
    "# 1-Write a Python program to find 4 numbers from an array such that the sum of 4 numbers equal to a given number.\n",
    "# Input : [1, 0, -1, 0, -2, 2,10,11], 0)\n",
    "# Output : [[-2, -1, 1, 2], [-2, 0, 0, 2], [-1, 0, 0, 1]]\n",
    "\n",
    "\n",
    "\n",
    "number=int(input(\"Please Enter the number of the elemnt in the array: \"))\n",
    "list1=[]\n",
    "for i in range(number):\n",
    "    temp=int(input(\"element in the list: \"))\n",
    "    list1.append(temp)\n",
    "    \n",
    "num=int(input(\"Enter the number for the equalof the sum: \"))\n",
    "\n",
    "list2=[]\n",
    "for i in range(number-3):\n",
    "    for j in range(i+1,number-2):\n",
    "        for k in range(j+1,number-1):\n",
    "            for l in range(k+1,number):\n",
    "                if (list1[i]+list1[j]+list1[k]+list1[l])==num:\n",
    "                    temp_list=[]\n",
    "                    temp_list.append(list1[i])\n",
    "                    temp_list.append(list1[j])\n",
    "                    temp_list.append(list1[k])\n",
    "                    temp_list.append(list1[l])\n",
    "                    list2.append(temp_list)\n",
    "                    \n",
    "print(list2)"
   ]
  },
  {
   "cell_type": "code",
   "execution_count": 20,
   "id": "26ca582e",
   "metadata": {},
   "outputs": [
    {
     "name": "stdout",
     "output_type": "stream",
     "text": [
      "The Output:  3\n"
     ]
    }
   ],
   "source": [
    "# 2-Write a Python program to find the single element appears once in a list where every element appears multiple times except for one. \n",
    "# Input : [1, 1, 1, 2, 2, 2, 3]\n",
    "# Output : 3\n",
    "\n",
    "list1=[1, 1, 1, 2, 2, 2, 3]\n",
    "for i in list1:\n",
    "    if list1.count(i)==1:\n",
    "        print(\"The Output: \",i)\n",
    "\n",
    "        \n"
   ]
  },
  {
   "cell_type": "code",
   "execution_count": 28,
   "id": "1939ef40",
   "metadata": {},
   "outputs": [
    {
     "name": "stdout",
     "output_type": "stream",
     "text": [
      "5\n"
     ]
    }
   ],
   "source": [
    "# 3-Write a Python program to add the digits of a positive integer repeatedly until the result has a single digit. \n",
    "# Input : 48\n",
    "# Output : 3\n",
    "# For example given number is 59, the result will be 5.\n",
    "# Step 1: 5 + 9 = 14\n",
    "# Step 1: 1 + 4 = 5\n",
    "\n",
    "\n",
    "def sum_of_digit(num):\n",
    "    sum1=0\n",
    "    while(num>0):\n",
    "        temp=num%10\n",
    "        sum1=sum1+temp\n",
    "        num=int(num/10)\n",
    "    if sum1>9:\n",
    "        sum_of_digit(sum1)\n",
    "    else:\n",
    "        print(sum1)\n",
    "sum_of_digit(59)"
   ]
  },
  {
   "cell_type": "code",
   "execution_count": null,
   "id": "b8b69b0d",
   "metadata": {},
   "outputs": [],
   "source": []
  }
 ],
 "metadata": {
  "kernelspec": {
   "display_name": "Python 3 (ipykernel)",
   "language": "python",
   "name": "python3"
  },
  "language_info": {
   "codemirror_mode": {
    "name": "ipython",
    "version": 3
   },
   "file_extension": ".py",
   "mimetype": "text/x-python",
   "name": "python",
   "nbconvert_exporter": "python",
   "pygments_lexer": "ipython3",
   "version": "3.8.18"
  }
 },
 "nbformat": 4,
 "nbformat_minor": 5
}
