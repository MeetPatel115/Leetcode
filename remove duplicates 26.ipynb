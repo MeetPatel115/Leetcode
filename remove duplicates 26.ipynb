{
 "cells": [
  {
   "cell_type": "code",
   "execution_count": 41,
   "id": "0c3d82af",
   "metadata": {},
   "outputs": [],
   "source": [
    "def remove_duplicates(nums):\n",
    "    final=[]\n",
    "    for i in range(0,len(nums)):\n",
    "        if nums[i-1]^nums[i]:\n",
    "            print(i)\n",
    "        else:\n",
    "#             print(nums[i])\n",
    "            final.append(nums[i])\n",
    "    return final"
   ]
  },
  {
   "cell_type": "code",
   "execution_count": 57,
   "id": "b9804bb4",
   "metadata": {},
   "outputs": [],
   "source": [
    "ans=remove_duplicates([1,1,2])"
   ]
  },
  {
   "cell_type": "code",
   "execution_count": 58,
   "id": "173ad585",
   "metadata": {},
   "outputs": [
    {
     "data": {
      "text/plain": [
       "2"
      ]
     },
     "execution_count": 58,
     "metadata": {},
     "output_type": "execute_result"
    }
   ],
   "source": [
    "ans"
   ]
  },
  {
   "cell_type": "code",
   "execution_count": 44,
   "id": "124c668f",
   "metadata": {},
   "outputs": [],
   "source": [
    "def remove_duplicates(nums):\n",
    "    final=[]\n",
    "    for i in range(len(nums)):\n",
    "        if i==0 or nums[i-1]!=nums[i]:\n",
    "            final.append(nums[i])\n",
    "    return final"
   ]
  },
  {
   "cell_type": "code",
   "execution_count": 56,
   "id": "1a54aa39",
   "metadata": {},
   "outputs": [],
   "source": [
    "def remove_duplicates(nums):\n",
    "    if not nums:\n",
    "        return 0\n",
    "\n",
    "    # Initialize the index for placing unique elements\n",
    "    write_index = 1\n",
    "    \n",
    "    for i in range(1, len(nums)):\n",
    "        if nums[i] != nums[i - 1]:\n",
    "            nums[write_index] = nums[i]\n",
    "            write_index += 1\n",
    "    \n",
    "    # Return the length of the array with unique elements\n",
    "    return write_index\n"
   ]
  },
  {
   "cell_type": "code",
   "execution_count": null,
   "id": "386d5c07",
   "metadata": {},
   "outputs": [],
   "source": []
  }
 ],
 "metadata": {
  "kernelspec": {
   "display_name": "Python 3 (ipykernel)",
   "language": "python",
   "name": "python3"
  },
  "language_info": {
   "codemirror_mode": {
    "name": "ipython",
    "version": 3
   },
   "file_extension": ".py",
   "mimetype": "text/x-python",
   "name": "python",
   "nbconvert_exporter": "python",
   "pygments_lexer": "ipython3",
   "version": "3.8.18"
  }
 },
 "nbformat": 4,
 "nbformat_minor": 5
}
