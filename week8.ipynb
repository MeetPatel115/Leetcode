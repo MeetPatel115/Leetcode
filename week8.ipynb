{
 "cells": [
  {
   "cell_type": "code",
   "execution_count": 3,
   "id": "edcb74a9",
   "metadata": {},
   "outputs": [],
   "source": [
    "Q1. Write a function to find the longest common prefix string amongst an array of strings.\n",
    "\n",
    "If there is no common prefix, return an empty string \"\"."
   ]
  },
  {
   "cell_type": "code",
   "execution_count": 12,
   "id": "05bef9b5",
   "metadata": {},
   "outputs": [
    {
     "name": "stdout",
     "output_type": "stream",
     "text": [
      "flo\n"
     ]
    }
   ],
   "source": [
    "def longestCommonPrefix(strs):\n",
    "    if not strs:\n",
    "        return \"\"\n",
    "    \n",
    "    # Sort the array of strings to ensure that the shortest and longest strings are at the beginning and end respectively\n",
    "    strs.sort()\n",
    "    \n",
    "    # Initialize the result string with the first string in the sorted array\n",
    "    prefix = strs[0]\n",
    "    \n",
    "    # Iterate through the remaining strings in the array\n",
    "    for s in strs[1:]:\n",
    "        # Check if the current prefix is a prefix of the current string\n",
    "        while not s.startswith(prefix):\n",
    "            # If not, remove the last character from the prefix and try again\n",
    "            prefix = prefix[:-1]\n",
    "            if not prefix:\n",
    "                # If the prefix becomes empty, there is no common prefix\n",
    "                return \"\"\n",
    "    \n",
    "    return prefix\n",
    "\n",
    "# Example usage:\n",
    "strs = [\"flower\", \"flow\", \"floight\"]\n",
    "print(longestCommonPrefix(strs))  # Output: \"fl\"\n"
   ]
  },
  {
   "cell_type": "code",
   "execution_count": 9,
   "id": "ccb93ddb",
   "metadata": {},
   "outputs": [],
   "source": [
    "def longestCommonPrefix(strs):\n",
    "    for i in range(1,len(strs)):\n",
    "        first=strs[0]\n",
    "        prefix=first[:i]\n",
    "        flag=False\n",
    "        for st in strs:\n",
    "            if st.startswith(prefix):\n",
    "                pass\n",
    "            else:\n",
    "                flag=True\n",
    "                break\n",
    "        if flag==False:\n",
    "            temp=prefix\n",
    "        else:\n",
    "            temp=\"\"\n",
    "    return temp"
   ]
  },
  {
   "cell_type": "code",
   "execution_count": 10,
   "id": "adde8614",
   "metadata": {},
   "outputs": [
    {
     "data": {
      "text/plain": [
       "'fl'"
      ]
     },
     "execution_count": 10,
     "metadata": {},
     "output_type": "execute_result"
    }
   ],
   "source": [
    "ans1=longestCommonPrefix([\"flower\",\"flow\",\"flight\"])\n",
    "ans1"
   ]
  },
  {
   "cell_type": "code",
   "execution_count": 8,
   "id": "0f5f5122",
   "metadata": {},
   "outputs": [],
   "source": [
    "# Q2. Given an array nums of size n, return the majority element.\n",
    "\n",
    "# The majority element is the element that appears more than ⌊n / 2⌋ times. You may assume that the majority element always exists in the array."
   ]
  },
  {
   "cell_type": "code",
   "execution_count": 9,
   "id": "e7d925a4",
   "metadata": {},
   "outputs": [],
   "source": [
    "from collections import Counter"
   ]
  },
  {
   "cell_type": "code",
   "execution_count": 20,
   "id": "6cc99b6d",
   "metadata": {},
   "outputs": [
    {
     "name": "stdout",
     "output_type": "stream",
     "text": [
      "2\n"
     ]
    }
   ],
   "source": [
    "listq=[2,4,3,2,5,2,2]\n",
    "temp=Counter(listq)\n",
    "maxq=0\n",
    "\n",
    "for i in temp:\n",
    "    if temp[i]>temp[maxq]:\n",
    "        maxq=i\n",
    "if temp[maxq]>(len(listq)/2):\n",
    "    print(maxq)\n"
   ]
  },
  {
   "cell_type": "code",
   "execution_count": 17,
   "id": "80981de1",
   "metadata": {},
   "outputs": [],
   "source": [
    "# Q3.\n",
    "# Given an integer n, your task is to count how many strings of length n can be formed under the following rules:\n",
    "\n",
    "# Each character is a lower case vowel ('a', 'e', 'i', 'o', 'u')\n",
    "# Each vowel 'a' may only be followed by an 'e'.\n",
    "# Each vowel 'e' may only be followed by an 'a' or an 'i'.\n",
    "# Each vowel 'i' may not be followed by another 'i'.\n",
    "# Each vowel 'o' may only be followed by an 'i' or a 'u'.\n",
    "# Each vowel 'u' may only be followed by an 'a'.\n",
    "# Since the answer may be too large, return it modulo 10^9 + 7."
   ]
  },
  {
   "cell_type": "code",
   "execution_count": 13,
   "id": "acea829d",
   "metadata": {},
   "outputs": [],
   "source": [
    "def calculate_string(n):\n",
    "    Mod=10**9+7\n",
    "    \n",
    "    if n==1:\n",
    "        return 5\n",
    "\n",
    "    \n",
    "    dp = [[0] * 5 for _ in range(n + 1)]\n",
    "    for i in range(5):\n",
    "        dp[1][i] = 1\n",
    "    transitions = {\n",
    "        0: [1],     \n",
    "        1: [0, 2], \n",
    "        2: [0, 1, 3, 4],  \n",
    "        3: [2, 4],  \n",
    "        4: [0]      \n",
    "    }\n",
    "    \n",
    "    for i in range(2, n + 1):\n",
    "        for j in range(5):\n",
    "            dp[i][j] = sum(dp[i - 1][next_vowel] for next_vowel in transitions[j]) % Mod\n",
    "            \n",
    "            \n",
    "    total=sum(dp[n])\n",
    "    return total\n",
    "\n",
    "    "
   ]
  },
  {
   "cell_type": "code",
   "execution_count": 14,
   "id": "7597635e",
   "metadata": {},
   "outputs": [
    {
     "name": "stdout",
     "output_type": "stream",
     "text": [
      "10\n"
     ]
    }
   ],
   "source": [
    "print(calculate_string(2))"
   ]
  },
  {
   "cell_type": "code",
   "execution_count": null,
   "id": "b1f3ff10",
   "metadata": {},
   "outputs": [],
   "source": []
  }
 ],
 "metadata": {
  "kernelspec": {
   "display_name": "Python 3 (ipykernel)",
   "language": "python",
   "name": "python3"
  },
  "language_info": {
   "codemirror_mode": {
    "name": "ipython",
    "version": 3
   },
   "file_extension": ".py",
   "mimetype": "text/x-python",
   "name": "python",
   "nbconvert_exporter": "python",
   "pygments_lexer": "ipython3",
   "version": "3.8.18"
  }
 },
 "nbformat": 4,
 "nbformat_minor": 5
}
