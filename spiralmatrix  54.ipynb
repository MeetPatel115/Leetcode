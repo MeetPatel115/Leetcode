{
 "cells": [
  {
   "cell_type": "code",
   "execution_count": 93,
   "id": "032acfac",
   "metadata": {},
   "outputs": [],
   "source": [
    "def spiral_matrinx(matrix):\n",
    "    top ,bottom=0,len(matrix)-1\n",
    "    left,right=0,len(matrix[0])-1\n",
    "    output=[]\n",
    "    while top<=bottom and left<=right:\n",
    "        for i in range(left,right+1):\n",
    "            output.append(matrix[top][i])\n",
    "        top+=1\n",
    "        output.append(99)\n",
    "        for i in range (top,bottom+1):\n",
    "            output.append(matrix[i][right])\n",
    "        right-=1\n",
    "        output.append(98)\n",
    "        if left<=right:\n",
    "            for i in range(right,left-1,-1):\n",
    "                output.append(matrix[bottom][i])\n",
    "            bottom-=1\n",
    "            output.append(97)\n",
    "        if top<=bottom:\n",
    "            for i in range(bottom,top-1,-1):\n",
    "                output.append(matrix[i][left])\n",
    "            left+=1\n",
    "            output.append(96)\n",
    "    return output"
   ]
  },
  {
   "cell_type": "code",
   "execution_count": 94,
   "id": "f3fc7f96",
   "metadata": {},
   "outputs": [],
   "source": [
    "ans=spiral_matrinx([[1,2,3,4],[5,6,7,8],[9,10,11,12]])"
   ]
  },
  {
   "cell_type": "code",
   "execution_count": 95,
   "id": "8a1a4867",
   "metadata": {},
   "outputs": [
    {
     "name": "stdout",
     "output_type": "stream",
     "text": [
      "9\n",
      "8\n",
      "7\n",
      "6\n",
      "5\n",
      "4\n",
      "3\n",
      "2\n",
      "1\n"
     ]
    }
   ],
   "source": [
    "for i in range(9,0,-1):\n",
    "    print(i)"
   ]
  },
  {
   "cell_type": "code",
   "execution_count": 96,
   "id": "cda912f8",
   "metadata": {},
   "outputs": [
    {
     "data": {
      "text/plain": [
       "[1, 2, 3, 4, 99, 8, 12, 98, 11, 10, 9, 97, 5, 96, 6, 7, 99, 98, 6, 97]"
      ]
     },
     "execution_count": 96,
     "metadata": {},
     "output_type": "execute_result"
    }
   ],
   "source": [
    "ans"
   ]
  },
  {
   "cell_type": "code",
   "execution_count": 92,
   "id": "4aa36f31",
   "metadata": {},
   "outputs": [
    {
     "data": {
      "text/plain": [
       "[1, 2, 3, 4, 8, 12, 11, 10, 9, 5, 6, 7]"
      ]
     },
     "execution_count": 92,
     "metadata": {},
     "output_type": "execute_result"
    }
   ],
   "source": [
    "[1,2,3,4,8,12,11,10,9,5,6,7]"
   ]
  },
  {
   "cell_type": "code",
   "execution_count": 109,
   "id": "6579ccdf",
   "metadata": {},
   "outputs": [],
   "source": [
    "def spiral_matrix(matrix):\n",
    "    top, bottom = 0, len(matrix) - 1\n",
    "    left, right = 0, len(matrix[0]) - 1\n",
    "    output = []\n",
    "    \n",
    "    while top <= bottom and left <= right:\n",
    "        # Traverse from left to right across the top row\n",
    "        for i in range(left, right + 1):\n",
    "            output.append(matrix[top][i])\n",
    "        top += 1\n",
    "        \n",
    "        # Traverse downwards along the right column\n",
    "        for i in range(top, bottom + 1):\n",
    "            output.append(matrix[i][right])\n",
    "        right -= 1\n",
    "        \n",
    "        if top <= bottom:\n",
    "            # Traverse from right to left across the bottom row\n",
    "            for i in range(right, left - 1, -1):\n",
    "                output.append(matrix[bottom][i])\n",
    "            bottom -= 1\n",
    "        \n",
    "        if left <= right:\n",
    "            # Traverse upwards along the left column\n",
    "            for i in range(bottom, top - 1, -1):\n",
    "                output.append(matrix[i][left])\n",
    "            left += 1\n",
    "    \n",
    "    return output\n"
   ]
  },
  {
   "cell_type": "code",
   "execution_count": 110,
   "id": "e3e199b9",
   "metadata": {},
   "outputs": [
    {
     "name": "stdout",
     "output_type": "stream",
     "text": [
      "[1, 2, 3, 4, 8, 12, 11, 10, 9, 5, 6, 7]\n"
     ]
    }
   ],
   "source": [
    "print(spiral_matrix([[1,2,3,4],[5,6,7,8],[9,10,11,12]]))"
   ]
  },
  {
   "cell_type": "code",
   "execution_count": null,
   "id": "ecfdb329",
   "metadata": {},
   "outputs": [],
   "source": [
    "def spiral_matrix(matrix):\n",
    "    top, bottom = 0, len(matrix) - 1\n",
    "    left, right = 0, len(matrix[0]) - 1\n",
    "    output = []\n",
    "    \n",
    "    while top <= bottom and left <= right:\n",
    "        # Traverse from left to right across the top row\n",
    "        for i in range(left, right + 1):\n",
    "            output.append(matrix[top][i])\n",
    "        top += 1\n",
    "        \n",
    "        # Traverse downwards along the right column\n",
    "        for i in range(top, bottom + 1):\n",
    "            output.append(matrix[i][right])\n",
    "        right -= 1\n",
    "        \n",
    "        if top <= bottom:\n",
    "            # Traverse from right to left across the bottom row\n",
    "            for i in range(right, left - 1, -1):\n",
    "                output.append(matrix[bottom][i])\n",
    "            bottom -= 1\n",
    "        \n",
    "        if left <= right:\n",
    "            # Traverse upwards along the left column\n",
    "            for i in range(bottom, top - 1, -1):\n",
    "                output.append(matrix[i][left])\n",
    "            left += 1\n",
    "    \n",
    "    return output\n"
   ]
  },
  {
   "cell_type": "code",
   "execution_count": 111,
   "id": "ab18590e",
   "metadata": {},
   "outputs": [],
   "source": [
    "matrix=[[1,2,3,4],[5,6,7,8],[9,10,11,12]]"
   ]
  },
  {
   "cell_type": "code",
   "execution_count": 112,
   "id": "ac6cd56c",
   "metadata": {},
   "outputs": [
    {
     "data": {
      "text/plain": [
       "[[9, 10, 11, 12], [5, 6, 7, 8], [1, 2, 3, 4]]"
      ]
     },
     "execution_count": 112,
     "metadata": {},
     "output_type": "execute_result"
    }
   ],
   "source": [
    "matrix[::-1]"
   ]
  },
  {
   "cell_type": "code",
   "execution_count": 115,
   "id": "29864b71",
   "metadata": {},
   "outputs": [],
   "source": [
    "def spiral_matrix(matrix):\n",
    "    a=[]\n",
    "    while matrix:\n",
    "        a+=matrix.pop(0)\n",
    "        \n",
    "        for m in matrix:\n",
    "            if m:\n",
    "                a.append(m.pop())\n",
    "         \n",
    "        if matrix:\n",
    "            a+=matrix.pop()[::-1]\n",
    "        \n",
    "        for m in matrix[::-1]:\n",
    "            if m:\n",
    "                a.append(m.pop())\n",
    "    return a"
   ]
  },
  {
   "cell_type": "code",
   "execution_count": 116,
   "id": "66d85d4f",
   "metadata": {},
   "outputs": [
    {
     "name": "stdout",
     "output_type": "stream",
     "text": [
      "[1, 2, 3, 4, 8, 12, 11, 10, 9, 7, 5, 6]\n"
     ]
    }
   ],
   "source": [
    "print(spiral_matrix([[1,2,3,4],[5,6,7,8],[9,10,11,12]]))"
   ]
  },
  {
   "cell_type": "code",
   "execution_count": null,
   "id": "09f7e306",
   "metadata": {},
   "outputs": [],
   "source": []
  }
 ],
 "metadata": {
  "kernelspec": {
   "display_name": "Python 3 (ipykernel)",
   "language": "python",
   "name": "python3"
  },
  "language_info": {
   "codemirror_mode": {
    "name": "ipython",
    "version": 3
   },
   "file_extension": ".py",
   "mimetype": "text/x-python",
   "name": "python",
   "nbconvert_exporter": "python",
   "pygments_lexer": "ipython3",
   "version": "3.8.18"
  }
 },
 "nbformat": 4,
 "nbformat_minor": 5
}
