{
 "cells": [
  {
   "cell_type": "code",
   "execution_count": 100,
   "id": "dbaeddd5",
   "metadata": {},
   "outputs": [],
   "source": [
    "def mark_iland(length,width,i,j,grid):\n",
    "    if i < 0 or j < 0 or i >= length or j >= width or grid[i][j] != '1':\n",
    "        return\n",
    "    grid[i][j]='2'\n",
    "#     print(grid[i][j])\n",
    "    mark_iland(length,width,i+1,j,grid)\n",
    "    mark_iland(length,width,i,j+1,grid)\n",
    "    mark_iland(length,width,i-1,j,grid)\n",
    "    mark_iland(length,width,i,j-1,grid)\n",
    "    \n",
    "    \n",
    "def island(grid):\n",
    "    num_is=0\n",
    "    l=len(grid)\n",
    "    r=len(grid[0])\n",
    "\n",
    "    for i in range(l):\n",
    "        for j in range(r):\n",
    "            if grid[i][j]=='1' :\n",
    "                \n",
    "                mark_iland(l,r,i,j,grid)\n",
    "                num_is+=1\n",
    "                \n",
    "                \n",
    "    return num_is"
   ]
  },
  {
   "cell_type": "code",
   "execution_count": 101,
   "id": "a11a43ec",
   "metadata": {},
   "outputs": [],
   "source": [
    " grid = [\n",
    "  [\"1\",\"1\",\"1\",\"1\",\"0\"],\n",
    "  [\"1\",\"1\",\"0\",\"1\",\"0\"],\n",
    "  [\"1\",\"1\",\"0\",\"0\",\"0\"],\n",
    "  [\"0\",\"0\",\"0\",\"0\",\"0\"]\n",
    "]"
   ]
  },
  {
   "cell_type": "code",
   "execution_count": 102,
   "id": "173096bc",
   "metadata": {},
   "outputs": [
    {
     "name": "stdout",
     "output_type": "stream",
     "text": [
      "1\n"
     ]
    }
   ],
   "source": [
    "print(island(grid))"
   ]
  },
  {
   "cell_type": "code",
   "execution_count": 98,
   "id": "30c59fd2",
   "metadata": {},
   "outputs": [],
   "source": [
    "def mark_iland(length, width, i, j, grid):\n",
    "    # Check if i, j are out of bounds or the current cell is not land ('1')\n",
    "    if i < 0 or j < 0 or i >= length or j >= width or grid[i][j] != '1':\n",
    "        return\n",
    "    # Mark the current cell as visited\n",
    "    grid[i][j] = '2'\n",
    "    # Recursively mark the connected land cells\n",
    "    mark_iland(length, width, i + 1, j, grid)\n",
    "    mark_iland(length, width, i, j + 1, grid)\n",
    "    mark_iland(length, width, i - 1, j, grid)\n",
    "    mark_iland(length, width, i, j - 1, grid)\n",
    "\n",
    "def island(grid):\n",
    "    num_is = 0\n",
    "    length = len(grid)\n",
    "    width = len(grid[0])\n",
    "\n",
    "    for i in range(length):\n",
    "        for j in range(width):\n",
    "            if grid[i][j] == '1':\n",
    "                mark_iland(length, width, i, j, grid)\n",
    "                num_is += 1\n",
    "\n",
    "    return num_is\n"
   ]
  },
  {
   "cell_type": "code",
   "execution_count": null,
   "id": "0f2b769e",
   "metadata": {},
   "outputs": [],
   "source": []
  }
 ],
 "metadata": {
  "kernelspec": {
   "display_name": "Python 3 (ipykernel)",
   "language": "python",
   "name": "python3"
  },
  "language_info": {
   "codemirror_mode": {
    "name": "ipython",
    "version": 3
   },
   "file_extension": ".py",
   "mimetype": "text/x-python",
   "name": "python",
   "nbconvert_exporter": "python",
   "pygments_lexer": "ipython3",
   "version": "3.8.18"
  }
 },
 "nbformat": 4,
 "nbformat_minor": 5
}
