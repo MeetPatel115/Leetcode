{
 "cells": [
  {
   "cell_type": "code",
   "execution_count": 32,
   "id": "96faab2f",
   "metadata": {},
   "outputs": [],
   "source": [
    "def longestCommonPrefix(strs):\n",
    "    for i in range(1,len(strs)):\n",
    "        first=strs[0]\n",
    "        prefix=first[:i]\n",
    "        flag=False\n",
    "        for st in strs:\n",
    "            if st.startswith(prefix):\n",
    "                pass\n",
    "            else:\n",
    "                flag=True\n",
    "                break\n",
    "        if flag==False:\n",
    "            temp=prefix\n",
    "        else:\n",
    "            temp=\"\"\n",
    "    return temp"
   ]
  },
  {
   "cell_type": "code",
   "execution_count": 35,
   "id": "448a2750",
   "metadata": {},
   "outputs": [],
   "source": [
    "ans1=longestCommonPrefix([\"flower\",\"flow\",\"flight\"])"
   ]
  },
  {
   "cell_type": "code",
   "execution_count": 36,
   "id": "5615e7a7",
   "metadata": {},
   "outputs": [
    {
     "data": {
      "text/plain": [
       "'fl'"
      ]
     },
     "execution_count": 36,
     "metadata": {},
     "output_type": "execute_result"
    }
   ],
   "source": [
    "ans1"
   ]
  },
  {
   "cell_type": "code",
   "execution_count": 2,
   "id": "be2d918a",
   "metadata": {},
   "outputs": [
    {
     "data": {
      "text/plain": [
       "True"
      ]
     },
     "execution_count": 2,
     "metadata": {},
     "output_type": "execute_result"
    }
   ],
   "source": [
    "strs.startswith('Aa')"
   ]
  },
  {
   "cell_type": "code",
   "execution_count": null,
   "id": "a4a79f1b",
   "metadata": {},
   "outputs": [],
   "source": [
    "for i in range(2,len(strs)-1):\n",
    "    first=strs[0]\n",
    "    prefix=first[:i]\n",
    "    for st in strs:\n",
    "        if not st.startswith(prefix):\n",
    "            break\n",
    "    ans=prefix\n",
    "return ans"
   ]
  }
 ],
 "metadata": {
  "kernelspec": {
   "display_name": "Python 3 (ipykernel)",
   "language": "python",
   "name": "python3"
  },
  "language_info": {
   "codemirror_mode": {
    "name": "ipython",
    "version": 3
   },
   "file_extension": ".py",
   "mimetype": "text/x-python",
   "name": "python",
   "nbconvert_exporter": "python",
   "pygments_lexer": "ipython3",
   "version": "3.8.18"
  }
 },
 "nbformat": 4,
 "nbformat_minor": 5
}
