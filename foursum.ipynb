{
 "cells": [
  {
   "cell_type": "code",
   "execution_count": 7,
   "id": "83c1e3f4",
   "metadata": {},
   "outputs": [],
   "source": [
    "def four_sum(nums,target):\n",
    "    nums.sort()\n",
    "    ans=[]\n",
    "    l, r= 0,len(nums)-1\n",
    "    while l<r:\n",
    "        l1,r1=l+1,r-1\n",
    "        \n",
    "        while l1<r1:\n",
    "            summ=nums[l]+nums[l1]+nums[r1]+nums[r]\n",
    "#             print(summ)\n",
    "            if summ<target:\n",
    "                l1+=1\n",
    "            elif summ>target:\n",
    "                r1-=1\n",
    "            elif (summ==target) and (l!=r!=l1!=r1):\n",
    "                print()\n",
    "                ans.append([nums[l],nums[l1],nums[r1],nums[r]])\n",
    "                while l1 < r1 and nums[l1] == nums[l1+1]:\n",
    "                    l1 += 1\n",
    "                while l1 < r1 and nums[r1] == nums[r1-1]:\n",
    "                    r1 -= 1\n",
    "                l1 += 1\n",
    "                r1 -= 1\n",
    "                \n",
    "        while l<r and nums[l]==nums[l+1]:\n",
    "            l+=1\n",
    "        while l<r and nums[r]==nums[r-1]:\n",
    "            r-=1\n",
    "        l+=1\n",
    "        r-=1\n",
    "    return ans"
   ]
  },
  {
   "cell_type": "code",
   "execution_count": 9,
   "id": "c528ef4d",
   "metadata": {},
   "outputs": [
    {
     "name": "stdout",
     "output_type": "stream",
     "text": [
      "\n",
      "[[2, 2, 2, 2]]\n"
     ]
    }
   ],
   "source": [
    "print(four_sum([2,2,2,2,2],8))"
   ]
  },
  {
   "cell_type": "code",
   "execution_count": 3,
   "id": "f14ad526",
   "metadata": {},
   "outputs": [
    {
     "ename": "NameError",
     "evalue": "name 'ans' is not defined",
     "output_type": "error",
     "traceback": [
      "\u001b[1;31m---------------------------------------------------------------------------\u001b[0m",
      "\u001b[1;31mNameError\u001b[0m                                 Traceback (most recent call last)",
      "Cell \u001b[1;32mIn[3], line 1\u001b[0m\n\u001b[1;32m----> 1\u001b[0m \u001b[43mans\u001b[49m\n",
      "\u001b[1;31mNameError\u001b[0m: name 'ans' is not defined"
     ]
    }
   ],
   "source": [
    "ans"
   ]
  },
  {
   "cell_type": "code",
   "execution_count": 10,
   "id": "942e8880",
   "metadata": {},
   "outputs": [
    {
     "name": "stdout",
     "output_type": "stream",
     "text": [
      "[[-2, -1, 1, 2], [-2, 0, 0, 2], [-1, 0, 0, 1]]\n",
      "[[2, 2, 2, 2]]\n"
     ]
    }
   ],
   "source": [
    "class Solution(object):\n",
    "    def fourSum(self, nums, target):\n",
    "        \"\"\"\n",
    "        :type nums: List[int]\n",
    "        :type target: int\n",
    "        :rtype: List[List[int]]\n",
    "        \"\"\"\n",
    "        nums.sort()\n",
    "        ans = []\n",
    "        n = len(nums)\n",
    "        \n",
    "        for i in range(n - 3):\n",
    "            if i > 0 and nums[i] == nums[i - 1]:\n",
    "                continue  # Skip duplicates for the first number\n",
    "            \n",
    "            for j in range(i + 1, n - 2):\n",
    "                if j > i + 1 and nums[j] == nums[j - 1]:\n",
    "                    continue  # Skip duplicates for the second number\n",
    "                \n",
    "                l, r = j + 1, n - 1\n",
    "                while l < r:\n",
    "                    summ = nums[i] + nums[j] + nums[l] + nums[r]\n",
    "                    if summ < target:\n",
    "                        l += 1\n",
    "                    elif summ > target:\n",
    "                        r -= 1\n",
    "                    else:\n",
    "                        ans.append([nums[i], nums[j], nums[l], nums[r]])\n",
    "                        while l < r and nums[l] == nums[l + 1]:\n",
    "                            l += 1  # Skip duplicates for the third number\n",
    "                        while l < r and nums[r] == nums[r - 1]:\n",
    "                            r -= 1  # Skip duplicates for the fourth number\n",
    "                        l += 1\n",
    "                        r -= 1\n",
    "        \n",
    "        return ans\n",
    "\n",
    "# Example usage\n",
    "solution = Solution()\n",
    "print(solution.fourSum([1, 0, -1, 0, -2, 2], 0))  # Output: [[-2, -1, 1, 2], [-2, 0, 0, 2], [-1, 0, 0, 1]]\n",
    "print(solution.fourSum([2, 2, 2, 2, 2], 8))       # Output: [[2, 2, 2, 2]]\n"
   ]
  },
  {
   "cell_type": "code",
   "execution_count": null,
   "id": "cdd8300e",
   "metadata": {},
   "outputs": [],
   "source": []
  }
 ],
 "metadata": {
  "kernelspec": {
   "display_name": "Python 3 (ipykernel)",
   "language": "python",
   "name": "python3"
  },
  "language_info": {
   "codemirror_mode": {
    "name": "ipython",
    "version": 3
   },
   "file_extension": ".py",
   "mimetype": "text/x-python",
   "name": "python",
   "nbconvert_exporter": "python",
   "pygments_lexer": "ipython3",
   "version": "3.8.18"
  }
 },
 "nbformat": 4,
 "nbformat_minor": 5
}
