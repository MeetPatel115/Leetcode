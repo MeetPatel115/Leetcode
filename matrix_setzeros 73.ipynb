{
 "cells": [
  {
   "cell_type": "code",
   "execution_count": 26,
   "id": "9e0152dc",
   "metadata": {},
   "outputs": [],
   "source": [
    "def setzeros(matrix):\n",
    "    l=[]\n",
    "    r=[]\n",
    "    for i in range(len(matrix)):\n",
    "        for j in  range(len(matrix[0])):\n",
    "            if matrix[i][j]==0:\n",
    "                l.append(i)\n",
    "                r.append(j)\n",
    "    for t in l:\n",
    "        \n",
    "        for i in range(len(matrix[0])):\n",
    "            matrix[t][i]=0\n",
    "            \n",
    "    for t in r:\n",
    "        for i in range(len(matrix)):\n",
    "            matrix[i][t]=0\n",
    "    return matrix"
   ]
  },
  {
   "cell_type": "code",
   "execution_count": 27,
   "id": "beca5556",
   "metadata": {},
   "outputs": [
    {
     "data": {
      "text/plain": [
       "[[1, 1, 0, 1], [0, 0, 0, 0], [1, 1, 0, 1]]"
      ]
     },
     "execution_count": 27,
     "metadata": {},
     "output_type": "execute_result"
    }
   ],
   "source": [
    "setzeros([[1,1,1,1],[1,1,0,1],[1,1,1,1]])"
   ]
  },
  {
   "cell_type": "code",
   "execution_count": null,
   "id": "566d28d5",
   "metadata": {},
   "outputs": [],
   "source": []
  }
 ],
 "metadata": {
  "kernelspec": {
   "display_name": "Python 3 (ipykernel)",
   "language": "python",
   "name": "python3"
  },
  "language_info": {
   "codemirror_mode": {
    "name": "ipython",
    "version": 3
   },
   "file_extension": ".py",
   "mimetype": "text/x-python",
   "name": "python",
   "nbconvert_exporter": "python",
   "pygments_lexer": "ipython3",
   "version": "3.8.18"
  }
 },
 "nbformat": 4,
 "nbformat_minor": 5
}
