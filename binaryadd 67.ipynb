{
 "cells": [
  {
   "cell_type": "code",
   "execution_count": 37,
   "id": "2002dcce",
   "metadata": {},
   "outputs": [],
   "source": [
    "a='100'\n",
    "b=\"110010\""
   ]
  },
  {
   "cell_type": "code",
   "execution_count": 42,
   "id": "b1732ffc",
   "metadata": {},
   "outputs": [],
   "source": [
    "def addbinary(a,b):\n",
    "\n",
    "    carry=0\n",
    "    result=''\n",
    "    a,b=a[::-1],b[::-1]\n",
    "    for i in range(max(len(a),len(b))):\n",
    "        dig_a=int(a[i]) if i<len(a) else 0\n",
    "        dig_b=int(b[i]) if i<len(b) else 0\n",
    "        total=dig_a+dig_b+carry\n",
    "        char=str(total%2)\n",
    "        result+=char\n",
    "        carry=total//2\n",
    "        print(result)\n",
    "    if carry:\n",
    "        result=result+'1'\n",
    "    return result[::-1]"
   ]
  },
  {
   "cell_type": "code",
   "execution_count": 43,
   "id": "9da22552",
   "metadata": {},
   "outputs": [
    {
     "name": "stdout",
     "output_type": "stream",
     "text": [
      "0\n",
      "01\n",
      "011\n",
      "0110\n",
      "01101\n",
      "011011\n"
     ]
    },
    {
     "data": {
      "text/plain": [
       "'110110'"
      ]
     },
     "execution_count": 43,
     "metadata": {},
     "output_type": "execute_result"
    }
   ],
   "source": [
    "addbinary(a,b)"
   ]
  },
  {
   "cell_type": "code",
   "execution_count": null,
   "id": "9f0b3919",
   "metadata": {},
   "outputs": [],
   "source": []
  }
 ],
 "metadata": {
  "kernelspec": {
   "display_name": "Python 3 (ipykernel)",
   "language": "python",
   "name": "python3"
  },
  "language_info": {
   "codemirror_mode": {
    "name": "ipython",
    "version": 3
   },
   "file_extension": ".py",
   "mimetype": "text/x-python",
   "name": "python",
   "nbconvert_exporter": "python",
   "pygments_lexer": "ipython3",
   "version": "3.8.18"
  }
 },
 "nbformat": 4,
 "nbformat_minor": 5
}
