{
 "cells": [
  {
   "cell_type": "code",
   "execution_count": 69,
   "id": "a1b94715",
   "metadata": {},
   "outputs": [],
   "source": [
    "You are given a 0-indexed binary string s having an even length.\n",
    "\n",
    "A string is beautiful if it's possible to partition it into one or more substrings such that:\n",
    "\n",
    "Each substring has an even length.\n",
    "Each substring contains only 1's or only 0's.\n",
    "You can change any character in s to 0 or 1.\n",
    "\n",
    "Return the minimum number of changes required to make the string s beautiful.\n",
    "\n",
    " \n",
    "\n",
    "# Example 1:\n",
    "\n",
    "# Input: s = \"1001\"\n",
    "# Output: 2\n",
    "# Explanation: We change s[1] to 1 and s[3] to 0 to get string \"1100\".\n",
    "# It can be seen that the string \"1100\" is beautiful because we can partition it into \"11|00\".\n",
    "# It can be proven that 2 is the minimum number of changes needed to make the string beautiful.\n",
    "# Example 2:\n",
    "\n",
    "# Input: s = \"10\"\n",
    "# Output: 1\n",
    "# Explanation: We change s[1] to 1 to get string \"11\".\n",
    "# It can be seen that the string \"11\" is beautiful because we can partition it into \"11\".\n",
    "# It can be proven that 1 is the minimum number of changes needed to make the string beautiful.\n",
    "# Example 3:\n",
    "\n",
    "# Input: s = \"0000\"\n",
    "# Output: 0\n",
    "# Explanation: We don't need to make any changes as the string \"0000\" is beautiful already.\n",
    "\n"
   ]
  },
  {
   "cell_type": "code",
   "execution_count": 4,
   "id": "b00e08bd",
   "metadata": {},
   "outputs": [
    {
     "name": "stdout",
     "output_type": "stream",
     "text": [
      "1\n",
      "1\n",
      "2\n"
     ]
    }
   ],
   "source": [
    "def minChanges(s):\n",
    "    # Initialize counters\n",
    "    change_to_0_even = 0\n",
    "    change_to_1_odd = 0\n",
    "    \n",
    "    # Iterate through the string\n",
    "    for i, c in enumerate(s):\n",
    "        # Check if the index is even\n",
    "        if i % 2 == 0:\n",
    "            # For even indices, check if the character is not '0'\n",
    "            if c != '0':\n",
    "                change_to_0_even += 1\n",
    "        else:\n",
    "            # For odd indices, check if the character is not '1'\n",
    "            if c != '1':\n",
    "                change_to_1_odd += 1\n",
    "    \n",
    "    # Return the maximum of changes needed\n",
    "    return max(change_to_0_even, change_to_1_odd)\n",
    "\n",
    "# Example usage:\n",
    "s1 = \"1001\"\n",
    "print(minChanges(s1))  # Output: 2\n",
    "\n",
    "s2 = \"10\"\n",
    "print(minChanges(s2))  # Output: 1\n",
    "\n",
    "s3 = \"0000\"\n",
    "print(minChanges(s3))  # Output: 0\n"
   ]
  },
  {
   "cell_type": "code",
   "execution_count": 1,
   "id": "6b311604",
   "metadata": {},
   "outputs": [
    {
     "name": "stdout",
     "output_type": "stream",
     "text": [
      "0\n"
     ]
    }
   ],
   "source": [
    "string='10'\n",
    "count_1=0\n",
    "count_0=0\n",
    "for i in range(len(string)):\n",
    "    if i%2==0:\n",
    "        if string[i]=='0':\n",
    "            count_0+=1\n",
    "        else:\n",
    "            count_1+=1\n",
    "    else:\n",
    "        if string[i]=='1':\n",
    "            count_0+=1\n",
    "        else:\n",
    "            count_1+=1\n",
    "\n",
    "print(min(count_0,count_1))"
   ]
  },
  {
   "cell_type": "code",
   "execution_count": 6,
   "id": "76e3066e",
   "metadata": {},
   "outputs": [],
   "source": [
    "string='0000'\n",
    "count_0=count_1=0\n",
    "for i in string:\n",
    "    if i =='0':\n",
    "        pass\n",
    "    else:\n",
    "        count_0+=1\n",
    "for i in string:\n",
    "    if i =='1':\n",
    "        pass\n",
    "    else:\n",
    "        count_1+=1"
   ]
  },
  {
   "cell_type": "code",
   "execution_count": 7,
   "id": "cf6d710b",
   "metadata": {},
   "outputs": [
    {
     "data": {
      "text/plain": [
       "0"
      ]
     },
     "execution_count": 7,
     "metadata": {},
     "output_type": "execute_result"
    }
   ],
   "source": [
    "min(count_0,count_1)"
   ]
  },
  {
   "cell_type": "code",
   "execution_count": 8,
   "id": "a8d5faa0",
   "metadata": {},
   "outputs": [
    {
     "name": "stdout",
     "output_type": "stream",
     "text": [
      "Enter the string: ddwf125315232467876544444567876543\n",
      "['1', '2', '5', '3', '1', '5', '2', '3', '2', '4', '6', '7', '8', '7', '6', '5', '4', '4', '4', '4', '4', '5', '6', '7', '8', '7', '6', '5', '4', '3']\n",
      "['1', '2', '5', '3', '1', '5', '2', '3', '2', '4', '6', '7', '8', '7', '6', '5', '4', '4', '4', '4', '4', '5', '6', '7', '8', '7', '6', '5', '4', '3']\n"
     ]
    }
   ],
   "source": [
    "# --------\n",
    "\n",
    "# Write a Python program to find all the numbers from 0-9 from a string:\n",
    "\n",
    "# input: '89ADFRE41'\n",
    "\n",
    "# Output :[8941]\n",
    "\n",
    "string=input(\"Enter the string: \")\n",
    "list1=[]\n",
    "for i in string:\n",
    "    if i.isdigit():\n",
    "        list1.append(i)\n",
    "print(list1)\n",
    "\n",
    "\n",
    "# other mehtod\n",
    "\n",
    "import re\n",
    "list2=re.findall(r'\\d',string)\n",
    "print(list2)"
   ]
  },
  {
   "cell_type": "code",
   "execution_count": 6,
   "id": "17238e4e",
   "metadata": {},
   "outputs": [
    {
     "name": "stdout",
     "output_type": "stream",
     "text": [
      "Enter the list comma in betweenbetween:  1,2,1,3,2,5\n",
      "Enter the number exactly n times it match :2\n"
     ]
    },
    {
     "data": {
      "text/plain": [
       "['3', '5']"
      ]
     },
     "execution_count": 6,
     "metadata": {},
     "output_type": "execute_result"
    }
   ],
   "source": [
    "# Write a Python program to find two elements once in a list where every element appears exactly n times in the list. \n",
    "# Input : [1, 2, 1, 3, 2, 5], 2    (n=2)\n",
    "# Output :[5, 3]\n",
    "\n",
    "user=input(\"Enter the list comma in betweenbetween:  \")\n",
    "list_1=user.split(',')\n",
    "n=int(input(\"Enter the number exactly n times it match :\"))\n",
    "output=[]\n",
    "for i in list_1:\n",
    "    if list_1.count(i)!=n:\n",
    "        output.append(i)\n",
    "output"
   ]
  },
  {
   "cell_type": "code",
   "execution_count": 53,
   "id": "b7b2014d",
   "metadata": {},
   "outputs": [
    {
     "name": "stdout",
     "output_type": "stream",
     "text": [
      "Enter the value:-145\n"
     ]
    },
    {
     "data": {
      "text/plain": [
       "-541"
      ]
     },
     "execution_count": 53,
     "metadata": {},
     "output_type": "execute_result"
    }
   ],
   "source": [
    "\n",
    "#  Write a Python program to reverse the digits of an integer. \n",
    "# Input : 234\n",
    "# Input : -234\n",
    "# Output: 432\n",
    "# Output : -432\n",
    "\n",
    "def reve_int(num):\n",
    "    sum1=0\n",
    "    while num>0:\n",
    "        sum1*=10\n",
    "        sum1+=num%10\n",
    "        num=num//10\n",
    "        \n",
    "    return sum1\n",
    "\n",
    "user_input=int(input(\"Enter the value:\"))\n",
    "\n",
    "if user_input>0:\n",
    "    o=reve_int(user_input)\n",
    "else:\n",
    "    o=-abs(reve_int(abs(user_input)))\n",
    "o\n",
    "# other method\n",
    "\n",
    "# output_rev=''\n",
    "# if user_input>0:\n",
    "#     output_rev=str(user_input)[::-1]\n",
    "# else:\n",
    "#     output_rev='-'+str(abs(user_input))[::-1]\n",
    "# output_rev"
   ]
  },
  {
   "cell_type": "code",
   "execution_count": 52,
   "id": "905cc804",
   "metadata": {},
   "outputs": [
    {
     "data": {
      "text/plain": [
       "-541"
      ]
     },
     "execution_count": 52,
     "metadata": {},
     "output_type": "execute_result"
    }
   ],
   "source": [
    "# You are given three integers start, finish, and limit. You are also given a 0-indexed string s representing a positive integer.\n",
    "\n",
    "# A positive integer x is called powerful if it ends with s (in other words, s is a suffix of x) and each digit in x is at most limit.\n",
    "\n",
    "# Return the total number of powerful integers in the range [start..finish].\n",
    "\n",
    "# A string x is a suffix of a string y if and only if x is a substring of y that starts from some index (including 0) in y and extends to the index y.length - 1. For example, 25 is a suffix of 5125 whereas 512 is not.\n",
    "\n",
    " \n",
    "\n",
    "# Example 1:\n",
    "\n",
    "# Input: start = 1, finish = 6000, limit = 4, s = \"124\"\n",
    "# Output: 5\n",
    "# Explanation: The powerful integers in the range [1..6000] are 124, 1124, 2124, 3124, and, 4124. All these integers have each digit <= 4, and \"124\" as a suffix. Note that 5124 is not a powerful integer because the first digit is 5 which is greater than 4.\n",
    "# It can be shown that there are only 5 powerful integers in this range.\n",
    "# Example 2:\n",
    "\n",
    "# Input: start = 15, finish = 215, limit = 6, s = \"10\"\n",
    "# Output: 2\n",
    "# Explanation: The powerful integers in the range [15..215] are 110 and 210. All these integers have each digit <= 6, and \"10\" as a suffix.\n",
    "# It can be shown that there are only 2 powerful integers in this range."
   ]
  },
  {
   "cell_type": "code",
   "execution_count": 75,
   "id": "4e4ab4cf",
   "metadata": {},
   "outputs": [
    {
     "name": "stdout",
     "output_type": "stream",
     "text": [
      "Enter the strating point:1\n",
      "Enter the finishing  point:6000\n",
      "Enter the limit:5\n",
      "Enter the pattern:124\n",
      "124\n",
      "1124\n",
      "2124\n",
      "3124\n",
      "4124\n",
      "5124\n"
     ]
    }
   ],
   "source": [
    "start=int(input(\"Enter the strating point:\"))\n",
    "finish=int(input(\"Enter the finishing  point:\"))\n",
    "limit=int(input(\"Enter the limit:\"))\n",
    "s=input(\"Enter the pattern:\")\n",
    "for i in range(start,finish+1):\n",
    "    temp=str(i)\n",
    "    if temp.endswith(s):\n",
    "        print(temp)"
   ]
  },
  {
   "cell_type": "code",
   "execution_count": 71,
   "id": "b56daebc",
   "metadata": {},
   "outputs": [
    {
     "data": {
      "text/plain": [
       "True"
      ]
     },
     "execution_count": 71,
     "metadata": {},
     "output_type": "execute_result"
    }
   ],
   "source": [
    "temp='100015'\n",
    "s='15'\n",
    "temp.endswith(s)"
   ]
  },
  {
   "cell_type": "code",
   "execution_count": null,
   "id": "8dec6603",
   "metadata": {},
   "outputs": [],
   "source": []
  }
 ],
 "metadata": {
  "kernelspec": {
   "display_name": "Python 3 (ipykernel)",
   "language": "python",
   "name": "python3"
  },
  "language_info": {
   "codemirror_mode": {
    "name": "ipython",
    "version": 3
   },
   "file_extension": ".py",
   "mimetype": "text/x-python",
   "name": "python",
   "nbconvert_exporter": "python",
   "pygments_lexer": "ipython3",
   "version": "3.8.18"
  }
 },
 "nbformat": 4,
 "nbformat_minor": 5
}
