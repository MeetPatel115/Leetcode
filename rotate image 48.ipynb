{
 "cells": [
  {
   "cell_type": "code",
   "execution_count": 1,
   "id": "7bbba187",
   "metadata": {},
   "outputs": [
    {
     "data": {
      "text/plain": [
       "963"
      ]
     },
     "execution_count": 1,
     "metadata": {},
     "output_type": "execute_result"
    }
   ],
   "source": [
    "123\n",
    "456\n",
    "789\n",
    "\n",
    "147\n",
    "258\n",
    "369\n",
    "\n",
    "321\n",
    "654\n",
    "987\n",
    "\n",
    "741\n",
    "852\n",
    "963"
   ]
  },
  {
   "cell_type": "code",
   "execution_count": null,
   "id": "b3f31804",
   "metadata": {},
   "outputs": [],
   "source": [
    "class Solution(object):\n",
    "    def rotate(self, matrix):\n",
    "        \"\"\"\n",
    "        :type matrix: List[List[int]]\n",
    "        :rtype: None Do not return anything, modify matrix in-place instead.\n",
    "        \"\"\"\n",
    "        n=len(matrix)\n",
    "\n",
    "        for i in range(n):\n",
    "            for j in range(i,n):\n",
    "                matrix[i][j],matrix[j][i]=matrix[j][i],matrix[i][j]\n",
    "\n",
    "        for i in range(n):\n",
    "            matrix[i]=matrix[i][::-1]\n",
    "\n",
    "        return matrix"
   ]
  }
 ],
 "metadata": {
  "kernelspec": {
   "display_name": "Python 3 (ipykernel)",
   "language": "python",
   "name": "python3"
  },
  "language_info": {
   "codemirror_mode": {
    "name": "ipython",
    "version": 3
   },
   "file_extension": ".py",
   "mimetype": "text/x-python",
   "name": "python",
   "nbconvert_exporter": "python",
   "pygments_lexer": "ipython3",
   "version": "3.8.18"
  }
 },
 "nbformat": 4,
 "nbformat_minor": 5
}
